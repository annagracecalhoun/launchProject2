{
 "cells": [
  {
   "cell_type": "markdown",
   "metadata": {},
   "source": [
    "## Neo4j Database Creation"
   ]
  },
  {
   "cell_type": "code",
   "execution_count": 13,
   "metadata": {},
   "outputs": [
    {
     "name": "stdout",
     "output_type": "stream",
     "text": [
      "Requirement already satisfied: py2neo in /Users/darenguyen/opt/anaconda3/lib/python3.8/site-packages (2021.1.3)\n",
      "Requirement already satisfied: monotonic in /Users/darenguyen/opt/anaconda3/lib/python3.8/site-packages (from py2neo) (1.6)\n",
      "Requirement already satisfied: docker in /Users/darenguyen/opt/anaconda3/lib/python3.8/site-packages (from py2neo) (4.4.1)\n",
      "Requirement already satisfied: pytz in /Users/darenguyen/opt/anaconda3/lib/python3.8/site-packages (from py2neo) (2020.1)\n",
      "Requirement already satisfied: six>=1.15.0 in /Users/darenguyen/opt/anaconda3/lib/python3.8/site-packages (from py2neo) (1.15.0)\n",
      "Requirement already satisfied: pansi>=2020.7.3 in /Users/darenguyen/opt/anaconda3/lib/python3.8/site-packages (from py2neo) (2020.7.3)\n",
      "Requirement already satisfied: certifi in /Users/darenguyen/opt/anaconda3/lib/python3.8/site-packages (from py2neo) (2020.6.20)\n",
      "Requirement already satisfied: packaging in /Users/darenguyen/opt/anaconda3/lib/python3.8/site-packages (from py2neo) (20.4)\n",
      "Requirement already satisfied: cryptography in /Users/darenguyen/opt/anaconda3/lib/python3.8/site-packages (from py2neo) (3.1.1)\n",
      "Requirement already satisfied: pygments>=2.0.0 in /Users/darenguyen/opt/anaconda3/lib/python3.8/site-packages (from py2neo) (2.7.2)\n",
      "Requirement already satisfied: urllib3 in /Users/darenguyen/opt/anaconda3/lib/python3.8/site-packages (from py2neo) (1.25.11)\n",
      "Requirement already satisfied: prompt-toolkit>=2.0.7 in /Users/darenguyen/opt/anaconda3/lib/python3.8/site-packages (from py2neo) (3.0.8)\n",
      "Requirement already satisfied: english in /Users/darenguyen/opt/anaconda3/lib/python3.8/site-packages (from py2neo) (2020.7.0)\n",
      "Requirement already satisfied: neotime~=1.7.4 in /Users/darenguyen/opt/anaconda3/lib/python3.8/site-packages (from py2neo) (1.7.4)\n",
      "Requirement already satisfied: wcwidth in /Users/darenguyen/opt/anaconda3/lib/python3.8/site-packages (from prompt-toolkit>=2.0.7->py2neo) (0.2.5)\n",
      "Requirement already satisfied: cffi!=1.11.3,>=1.8 in /Users/darenguyen/opt/anaconda3/lib/python3.8/site-packages (from cryptography->py2neo) (1.14.3)\n",
      "Requirement already satisfied: pycparser in /Users/darenguyen/opt/anaconda3/lib/python3.8/site-packages (from cffi!=1.11.3,>=1.8->cryptography->py2neo) (2.20)\n",
      "Requirement already satisfied: requests!=2.18.0,>=2.14.2 in /Users/darenguyen/opt/anaconda3/lib/python3.8/site-packages (from docker->py2neo) (2.24.0)\n",
      "Requirement already satisfied: websocket-client>=0.32.0 in /Users/darenguyen/opt/anaconda3/lib/python3.8/site-packages (from docker->py2neo) (0.57.0)\n",
      "Requirement already satisfied: chardet<4,>=3.0.2 in /Users/darenguyen/opt/anaconda3/lib/python3.8/site-packages (from requests!=2.18.0,>=2.14.2->docker->py2neo) (3.0.4)\n",
      "Requirement already satisfied: idna<3,>=2.5 in /Users/darenguyen/opt/anaconda3/lib/python3.8/site-packages (from requests!=2.18.0,>=2.14.2->docker->py2neo) (2.10)\n",
      "Requirement already satisfied: pyparsing>=2.0.2 in /Users/darenguyen/opt/anaconda3/lib/python3.8/site-packages (from packaging->py2neo) (2.4.7)\n",
      "\u001b[33mWARNING: You are using pip version 21.0.1; however, version 21.1.2 is available.\n",
      "You should consider upgrading via the '/Users/darenguyen/opt/anaconda3/bin/python3 -m pip install --upgrade pip' command.\u001b[0m\n"
     ]
    }
   ],
   "source": [
    "!pip install py2neo"
   ]
  },
  {
   "cell_type": "code",
   "execution_count": 9,
   "metadata": {},
   "outputs": [],
   "source": [
    "import py2neo\n",
    "import numpy as np"
   ]
  },
  {
   "cell_type": "code",
   "execution_count": 24,
   "metadata": {},
   "outputs": [],
   "source": [
    "from py2neo import Graph\n",
    "from py2neo import Node\n",
    "from py2neo import Relationship"
   ]
  },
  {
   "cell_type": "code",
   "execution_count": 11,
   "metadata": {},
   "outputs": [],
   "source": [
    "graph = Graph(\"bolt://localhost:7687\", auth=(\"neo4j\", \"launch\"))"
   ]
  },
  {
   "cell_type": "code",
   "execution_count": 12,
   "metadata": {},
   "outputs": [],
   "source": [
    "import pandas as pd"
   ]
  },
  {
   "cell_type": "code",
   "execution_count": 303,
   "metadata": {},
   "outputs": [],
   "source": [
    "courses = pd.read_csv('courses.csv', encoding = \"ISO-8859-1\", engine='python') \n",
    "fam_members = pd.read_csv('familyMembers.csv', encoding = \"ISO-8859-1\", engine='python') \n",
    "group_members = pd.read_csv('groupMembers.csv', encoding = \"ISO-8859-1\", engine='python') \n",
    "pets = pd.read_csv('pets.csv', encoding = \"ISO-8859-1\", engine='python') "
   ]
  },
  {
   "cell_type": "code",
   "execution_count": 150,
   "metadata": {},
   "outputs": [
    {
     "data": {
      "text/plain": [
       "Index(['id', 'name', 'birthday', 'birthCity', 'hometown', 'age',\n",
       "       'siblingCount', 'sibling1', 'sibling2', 'sibling3', 'petCount', 'pet1',\n",
       "       'pet2', 'course1', 'course2', 'course3', 'course4', 'course5',\n",
       "       'course6', 'course7', 'major', 'favIceCream', 'inState'],\n",
       "      dtype='object')"
      ]
     },
     "execution_count": 150,
     "metadata": {},
     "output_type": "execute_result"
    }
   ],
   "source": [
    "group_members.columns"
   ]
  },
  {
   "cell_type": "code",
   "execution_count": 151,
   "metadata": {},
   "outputs": [
    {
     "data": {
      "text/html": [
       "<div>\n",
       "<style scoped>\n",
       "    .dataframe tbody tr th:only-of-type {\n",
       "        vertical-align: middle;\n",
       "    }\n",
       "\n",
       "    .dataframe tbody tr th {\n",
       "        vertical-align: top;\n",
       "    }\n",
       "\n",
       "    .dataframe thead th {\n",
       "        text-align: right;\n",
       "    }\n",
       "</style>\n",
       "<table border=\"1\" class=\"dataframe\">\n",
       "  <thead>\n",
       "    <tr style=\"text-align: right;\">\n",
       "      <th></th>\n",
       "      <th>id</th>\n",
       "      <th>name</th>\n",
       "      <th>species</th>\n",
       "      <th>breed</th>\n",
       "      <th>gender</th>\n",
       "      <th>age</th>\n",
       "      <th>ownerGroup</th>\n",
       "      <th>color</th>\n",
       "    </tr>\n",
       "  </thead>\n",
       "  <tbody>\n",
       "    <tr>\n",
       "      <th>0</th>\n",
       "      <td>1</td>\n",
       "      <td>King Louie</td>\n",
       "      <td>Dog</td>\n",
       "      <td>Unknown</td>\n",
       "      <td>M</td>\n",
       "      <td>5.00</td>\n",
       "      <td>1</td>\n",
       "      <td>white</td>\n",
       "    </tr>\n",
       "    <tr>\n",
       "      <th>1</th>\n",
       "      <td>2</td>\n",
       "      <td>Taro</td>\n",
       "      <td>Dog</td>\n",
       "      <td>Border Collie mix</td>\n",
       "      <td>M</td>\n",
       "      <td>0.58</td>\n",
       "      <td>3</td>\n",
       "      <td>Brown</td>\n",
       "    </tr>\n",
       "    <tr>\n",
       "      <th>2</th>\n",
       "      <td>3</td>\n",
       "      <td>Blacky</td>\n",
       "      <td>Cat</td>\n",
       "      <td>NaN</td>\n",
       "      <td>M</td>\n",
       "      <td>13.00</td>\n",
       "      <td>4</td>\n",
       "      <td>Black</td>\n",
       "    </tr>\n",
       "    <tr>\n",
       "      <th>3</th>\n",
       "      <td>4</td>\n",
       "      <td>Jacky</td>\n",
       "      <td>Cat</td>\n",
       "      <td>NaN</td>\n",
       "      <td>M</td>\n",
       "      <td>13.00</td>\n",
       "      <td>4</td>\n",
       "      <td>Brown</td>\n",
       "    </tr>\n",
       "    <tr>\n",
       "      <th>4</th>\n",
       "      <td>5</td>\n",
       "      <td>Leo</td>\n",
       "      <td>Dog</td>\n",
       "      <td>German Shepherd</td>\n",
       "      <td>M</td>\n",
       "      <td>2.80</td>\n",
       "      <td>2</td>\n",
       "      <td>Black</td>\n",
       "    </tr>\n",
       "  </tbody>\n",
       "</table>\n",
       "</div>"
      ],
      "text/plain": [
       "   id         name species              breed gender    age  ownerGroup  \\\n",
       "0    1  King Louie     Dog            Unknown      M   5.00           1   \n",
       "1    2        Taro     Dog  Border Collie mix      M   0.58           3   \n",
       "2    3      Blacky     Cat                NaN      M  13.00           4   \n",
       "3    4       Jacky     Cat                NaN      M  13.00           4   \n",
       "4    5         Leo     Dog    German Shepherd      M   2.80           2   \n",
       "\n",
       "    color  \n",
       "0  white   \n",
       "1   Brown  \n",
       "2   Black  \n",
       "3   Brown  \n",
       "4   Black  "
      ]
     },
     "execution_count": 151,
     "metadata": {},
     "output_type": "execute_result"
    }
   ],
   "source": [
    "pets"
   ]
  },
  {
   "cell_type": "code",
   "execution_count": 398,
   "metadata": {},
   "outputs": [],
   "source": [
    "# Group Member Node Creation\n",
    "for i in range(len(group_members)):\n",
    "    row = group_members.iloc[i] \n",
    "    person = Node(\"Person\", name = row['name'], birthday=row['birthday'], birthCity = row['birthCity'], hometown = row['hometown'], age = int(row['age']), siblingCount = int(row['siblingCount']), major = row['major'], inState = int(row['inState']))\n",
    "    graph.create(person)\n",
    "\n",
    "# Pet Node Creation\n",
    "for i in range(len(pets)):\n",
    "    row = pets.iloc[i] \n",
    "    pet = Node(\"Pet\", name = row['name'], species=row['species'], breed = row['breed'], gender = row['gender'], age = int(row['age']), color = row['color'])\n",
    "    graph.create(pet)\n",
    "    \n",
    "# Fam Members Node Creation\n",
    "for i in range(len(fam_members)):\n",
    "    row = fam_members.iloc[i] \n",
    "    familyMember = Node(\"familyMember\", name = row['name'], age= int(row['age']), gender = row['gender'], birthday = row['birthday'], petCount = int(row['petCount']), enrolledAtUVA = bool(row['enrolledAtUVA']))\n",
    "    graph.create(familyMember)\n",
    "\n",
    "# Courses Node Creation\n",
    "for i in range(len(courses)):\n",
    "    row = courses.iloc[i] \n",
    "    course = Node(\"Course\", courseMnemonic = row['course mnemonic'], courseNumber= int(row['course number']), department = row['department'], classTitle = row['class title'], professor = row['professor'], meetingDays = (row['meeting day(s)']), classType = row['type'], classCapacity = int(row['class capacity']), courseDescription = row['course description'])\n",
    "    graph.create(course)\n",
    "\n",
    "\n",
    "                  "
   ]
  },
  {
   "cell_type": "code",
   "execution_count": 399,
   "metadata": {},
   "outputs": [],
   "source": [
    "from py2neo import Graph, NodeMatcher\n",
    "matcher = NodeMatcher(graph)"
   ]
  },
  {
   "cell_type": "code",
   "execution_count": 400,
   "metadata": {},
   "outputs": [
    {
     "data": {
      "text/plain": [
       "Index(['id ', 'relation', 'name', 'age', 'gender', 'birthday', 'favIceCream',\n",
       "       'petCount', 'pet1Name', 'pet2Name', 'enrolledAtUVA', 'courses',\n",
       "       'groupMemberRelative'],\n",
       "      dtype='object')"
      ]
     },
     "execution_count": 400,
     "metadata": {},
     "output_type": "execute_result"
    }
   ],
   "source": [
    "fam_members.columns"
   ]
  },
  {
   "cell_type": "code",
   "execution_count": 401,
   "metadata": {},
   "outputs": [],
   "source": [
    "# Group Members to Pet 1 Relationship\n",
    "Owns = Relationship.type(\"OWNS\")\n",
    "for i in range(len(group_members)):\n",
    "    if not pd.isna(group_members['pet1'][i]):\n",
    "        matchone = matcher.match(\"Person\").where(\"_.name = '\" + str(group_members.name[i]) + \"'\").first()\n",
    "        thisPet = pets.loc[pets['id '] == group_members.pet1[i]].reset_index()\n",
    "        matchtwo = matcher.match(\"Pet\").where(\"_.name = '\" + str(thisPet.name[0]) + \"'\").first()\n",
    "        graph.create(Owns(matchone, matchtwo))"
   ]
  },
  {
   "cell_type": "code",
   "execution_count": 402,
   "metadata": {},
   "outputs": [],
   "source": [
    "# Group Members to Pet 2 Relationship\n",
    "for i in range(len(group_members)):\n",
    "    if not pd.isna(group_members['pet2'][i]):\n",
    "        matchone = matcher.match(\"Person\").where(\"_.name = '\" + str(group_members.name[i]) + \"'\").first()\n",
    "        thisPet = pets.loc[pets['id '] == group_members.pet2[i]].reset_index()\n",
    "        matchtwo = matcher.match(\"Pet\").where(\"_.name = '\" + str(thisPet.name[0]) + \"'\").first()\n",
    "        graph.create(Owns(matchone, matchtwo))"
   ]
  },
  {
   "cell_type": "code",
   "execution_count": 404,
   "metadata": {},
   "outputs": [],
   "source": [
    "# Group Member to Family Member Relationships\n",
    "IsRelatedTo = Relationship.type(\"IS_RELATED_TO\")\n",
    "for i in range(len(fam_members)):\n",
    "    matchone = matcher.match(\"familyMember\").where(\"_.name = '\" + str(fam_members.name[i]) + \"'\").first()\n",
    "    relative = group_members.loc[group_members['id'] == fam_members.groupMemberRelative[i]].reset_index()\n",
    "    matchtwo = matcher.match(\"Person\").where(\"_.name = '\" + str(relative.name[0]) + \"'\").first()\n",
    "    graph.create(IsRelatedTo(matchone, matchtwo))"
   ]
  },
  {
   "cell_type": "code",
   "execution_count": 406,
   "metadata": {},
   "outputs": [],
   "source": [
    "# Group Member to Course Relationships \n",
    "IsEnrolledIn = Relationship.type(\"IS_ENROLLED_IN\")\n",
    "for i in range(len(group_members)):\n",
    "    matchone = matcher.match(\"Person\").where(\"_.name = '\" + str(group_members.name[i]) + \"'\").first()\n",
    "    course = courses.loc[courses['id'] == group_members.course1[i]].reset_index()\n",
    "    matchtwo = matcher.match(\"Course\").where(\"_.classTitle = '\" + str(course['class title'][0]) + \"'\").first()\n",
    "    graph.create(IsEnrolledIn(matchone, matchtwo))\n",
    "    \n",
    "for i in range(len(group_members)):\n",
    "    matchone = matcher.match(\"Person\").where(\"_.name = '\" + str(group_members.name[i]) + \"'\").first()\n",
    "    course = courses.loc[courses['id'] == group_members.course2[i]].reset_index()\n",
    "    matchtwo = matcher.match(\"Course\").where(\"_.classTitle = '\" + str(course['class title'][0]) + \"'\").first()\n",
    "    graph.create(IsEnrolledIn(matchone, matchtwo))\n",
    "    \n",
    "for i in range(len(group_members)):\n",
    "    if not pd.isna(group_members['course3'][i]):\n",
    "        matchone = matcher.match(\"Person\").where(\"_.name = '\" + str(group_members.name[i]) + \"'\").first()\n",
    "        course = courses.loc[courses['id'] == group_members.course3[i]].reset_index()\n",
    "        matchtwo = matcher.match(\"Course\").where(\"_.classTitle = '\" + str(course['class title'][0]) + \"'\").first()\n",
    "        graph.create(IsEnrolledIn(matchone, matchtwo))\n",
    "    \n",
    "for i in range(len(group_members)):\n",
    "    if not pd.isna(group_members['course4'][i]):\n",
    "        matchone = matcher.match(\"Person\").where(\"_.name = '\" + str(group_members.name[i]) + \"'\").first()\n",
    "        course = courses.loc[courses['id'] == group_members.course4[i]].reset_index()\n",
    "        matchtwo = matcher.match(\"Course\").where(\"_.classTitle = '\" + str(course['class title'][0]) + \"'\").first()\n",
    "        graph.create(IsEnrolledIn(matchone, matchtwo))\n",
    "    \n",
    "for i in range(len(group_members)):\n",
    "    if not pd.isna(group_members['course5'][i]):\n",
    "        matchone = matcher.match(\"Person\").where(\"_.name = '\" + str(group_members.name[i]) + \"'\").first()\n",
    "        course = courses.loc[courses['id'] == group_members.course5[i]].reset_index()\n",
    "        matchtwo = matcher.match(\"Course\").where(\"_.classTitle = '\" + str(course['class title'][0]) + \"'\").first()\n",
    "        graph.create(IsEnrolledIn(matchone, matchtwo))\n",
    "    \n",
    "for i in range(len(group_members)):\n",
    "    if not pd.isna(group_members['course6'][i]):\n",
    "        matchone = matcher.match(\"Person\").where(\"_.name = '\" + str(group_members.name[i]) + \"'\").first()\n",
    "        course = courses.loc[courses['id'] == group_members.course6[i]].reset_index()\n",
    "        matchtwo = matcher.match(\"Course\").where(\"_.classTitle = '\" + str(course['class title'][0]) + \"'\").first()\n",
    "        graph.create(IsEnrolledIn(matchone, matchtwo))\n",
    "\n",
    "for i in range(len(group_members)):\n",
    "    if not pd.isna(group_members['course7'][i]):\n",
    "        matchone = matcher.match(\"Person\").where(\"_.name = '\" + str(group_members.name[i]) + \"'\").first()\n",
    "        course = courses.loc[courses['id'] == group_members.course7[i]].reset_index()\n",
    "        matchtwo = matcher.match(\"Course\").where(\"_.classTitle = '\" + str(course['class title'][0]) + \"'\").first()\n",
    "        graph.create(IsEnrolledIn(matchone, matchtwo))\n"
   ]
  },
  {
   "cell_type": "code",
   "execution_count": 397,
   "metadata": {},
   "outputs": [
    {
     "data": {
      "text/html": [
       "(No data)"
      ],
      "text/plain": [
       "(No data)"
      ]
     },
     "execution_count": 397,
     "metadata": {},
     "output_type": "execute_result"
    }
   ],
   "source": [
    "graph.run(\"match (n) detach delete n\")"
   ]
  },
  {
   "cell_type": "code",
   "execution_count": null,
   "metadata": {},
   "outputs": [],
   "source": []
  },
  {
   "cell_type": "code",
   "execution_count": null,
   "metadata": {},
   "outputs": [],
   "source": []
  }
 ],
 "metadata": {
  "kernelspec": {
   "display_name": "Python 3",
   "language": "python",
   "name": "python3"
  },
  "language_info": {
   "codemirror_mode": {
    "name": "ipython",
    "version": 3
   },
   "file_extension": ".py",
   "mimetype": "text/x-python",
   "name": "python",
   "nbconvert_exporter": "python",
   "pygments_lexer": "ipython3",
   "version": "3.8.5"
  }
 },
 "nbformat": 4,
 "nbformat_minor": 4
}
