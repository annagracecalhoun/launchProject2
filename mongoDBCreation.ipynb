{
 "cells": [
  {
   "cell_type": "markdown",
   "metadata": {},
   "source": [
    "## Creating the MongoDB Database"
   ]
  },
  {
   "cell_type": "code",
   "execution_count": 1,
   "metadata": {},
   "outputs": [],
   "source": [
    "#!pip install pymongo"
   ]
  },
  {
   "cell_type": "code",
   "execution_count": 2,
   "metadata": {},
   "outputs": [],
   "source": [
    "import pymongo"
   ]
  },
  {
   "cell_type": "markdown",
   "metadata": {},
   "source": [
    "Start the mongo daemon!"
   ]
  },
  {
   "cell_type": "code",
   "execution_count": 3,
   "metadata": {},
   "outputs": [],
   "source": [
    "from pymongo import MongoClient\n",
    "import pandas as pd"
   ]
  },
  {
   "cell_type": "code",
   "execution_count": 4,
   "metadata": {},
   "outputs": [],
   "source": [
    "import numpy as np"
   ]
  },
  {
   "cell_type": "code",
   "execution_count": 5,
   "metadata": {},
   "outputs": [],
   "source": [
    "client = MongoClient('localhost', 27017)\n",
    "db = client.project2 #Create the database"
   ]
  },
  {
   "cell_type": "code",
   "execution_count": 6,
   "metadata": {},
   "outputs": [],
   "source": [
    "#Create the Group Member collection\n",
    "collection = db.groupMember"
   ]
  },
  {
   "cell_type": "code",
   "execution_count": 7,
   "metadata": {},
   "outputs": [],
   "source": [
    "courses = pd.read_csv('courses.csv', encoding = \"ISO-8859-1\", engine='python') \n",
    "fam_members = pd.read_csv('familyMembers.csv', encoding = \"ISO-8859-1\", engine='python') \n",
    "group_members = pd.read_csv('groupMembers.csv', encoding = \"ISO-8859-1\", engine='python') \n",
    "pets = pd.read_csv('pets.csv', encoding = \"ISO-8859-1\", engine='python') "
   ]
  },
  {
   "cell_type": "code",
   "execution_count": 8,
   "metadata": {},
   "outputs": [],
   "source": [
    "group_members['age'] = group_members['age'].apply(lambda x: int(str(x)))\n",
    "group_members['petCount'] = group_members['petCount'].apply(lambda x: int(str(x)))\n",
    "group_members = group_members.astype({'inState': 'bool'})"
   ]
  },
  {
   "cell_type": "code",
   "execution_count": 9,
   "metadata": {},
   "outputs": [],
   "source": [
    "courses['course number'] = courses['course number'].apply(lambda x: int(str(x)))\n",
    "courses['class capacity'] = courses['class capacity'].apply(lambda x: int(str(x)))"
   ]
  },
  {
   "cell_type": "code",
   "execution_count": 10,
   "metadata": {},
   "outputs": [],
   "source": [
    "fam_members['age'] = fam_members['age'].apply(lambda x: int(str(x)))\n",
    "fam_members = fam_members.astype({'enrolledAtUVA': 'bool'})"
   ]
  },
  {
   "cell_type": "code",
   "execution_count": 11,
   "metadata": {},
   "outputs": [],
   "source": [
    "pets['age'] = pets['age'].apply(lambda x: int(float(str(x))))"
   ]
  },
  {
   "cell_type": "code",
   "execution_count": 12,
   "metadata": {},
   "outputs": [],
   "source": [
    "def correct_encoding(dictionary):\n",
    "    \"\"\"Correct the encoding of python dictionaries so they can be encoded to mongodb\n",
    "    inputs\n",
    "    -------\n",
    "    dictionary : dictionary instance to add as document\n",
    "    output\n",
    "    -------\n",
    "    new : new dictionary with (hopefully) corrected encodings\"\"\"\n",
    "\n",
    "    new = {}\n",
    "    for key1, val1 in dictionary.items():\n",
    "        # Nested dictionaries\n",
    "        if isinstance(val1, dict):\n",
    "            val1 = correct_encoding(val1)\n",
    "\n",
    "        if isinstance(val1, np.bool_):\n",
    "            val1 = bool(val1)\n",
    "\n",
    "        if isinstance(val1, np.int64):\n",
    "            val1 = int(val1)\n",
    "\n",
    "        if isinstance(val1, np.float64):\n",
    "            val1 = float(val1)\n",
    "\n",
    "        new[key1] = val1\n",
    "\n",
    "    return new"
   ]
  },
  {
   "cell_type": "markdown",
   "metadata": {},
   "source": [
    "### Restructuring data into python dicts"
   ]
  },
  {
   "cell_type": "code",
   "execution_count": 13,
   "metadata": {},
   "outputs": [],
   "source": [
    "for i in range(len(group_members)):    # loop through group members \n",
    "    curMem = group_members.iloc[i]\n",
    "    #print(curMem)\n",
    "    cur_dict = {}\n",
    "    for x in range(len(curMem)): \n",
    "       # print(x, curMem.index[x])\n",
    "        if x!=0 and x < 7:              # name - siblingCount props\n",
    "            cur_dict[curMem.index[x]] = curMem[x]\n",
    "        if x == 10 or x >19:           # petCount and major - inState props\n",
    "            cur_dict[curMem.index[x]] = curMem[x]\n",
    "        if x == 11 or x == 12:           # pets \n",
    "            if not pd.isna(curMem[x]):   # if not null find in the pets df \n",
    "                petId = curMem[x]\n",
    "                curPet = pd.DataFrame(pets.loc[pets['id '] == petId]).reset_index()\n",
    "                if not cur_dict.get('pets'): \n",
    "                    cur_dict['pets'] = {}\n",
    "               # print(curPet['name'])\n",
    "                cur_dict['pets'][curMem.index[x]] = {}\n",
    "                cur_dict['pets'][curMem.index[x]]['name'] = curPet['name'][0]\n",
    "                cur_dict['pets'][curMem.index[x]]['species'] = curPet['species'][0]\n",
    "                cur_dict['pets'][curMem.index[x]]['breed'] = curPet['breed'][0]\n",
    "                cur_dict['pets'][curMem.index[x]]['gender'] = curPet['gender'][0]\n",
    "                cur_dict['pets'][curMem.index[x]]['age'] = curPet['age'][0]\n",
    "                cur_dict['pets'][curMem.index[x]]['color'] = curPet['color'][0]\n",
    "        if x > 12 and x <20:           # courses \n",
    "            if not pd.isna(curMem[x]): # if not null, find in courses df \n",
    "                courseId = curMem[x]\n",
    "                curCourse = pd.DataFrame(courses.loc[courses['id'] == courseId])\n",
    "                if not cur_dict.get('courses'): \n",
    "                    cur_dict['courses'] = {}\n",
    "                #print(curCourse['course mnemonic'][courseId])\n",
    "                cur_dict['courses'][curMem.index[x]] = {}\n",
    "                cur_dict['courses'][curMem.index[x]]['mnemonic'] = curCourse['course mnemonic'][courseId]\n",
    "                cur_dict['courses'][curMem.index[x]]['courseNumber'] = int(curCourse['course number'][courseId])\n",
    "                cur_dict['courses'][curMem.index[x]]['department'] = curCourse['department'][courseId]\n",
    "                cur_dict['courses'][curMem.index[x]]['classTitle'] = curCourse['class title'][courseId]\n",
    "                cur_dict['courses'][curMem.index[x]]['professor'] = curCourse['professor'][courseId]\n",
    "                cur_dict['courses'][curMem.index[x]]['meetingDay(s)'] = curCourse['meeting day(s)'][courseId]\n",
    "                cur_dict['courses'][curMem.index[x]]['type'] = curCourse['type'][courseId]\n",
    "                cur_dict['courses'][curMem.index[x]]['classCapacity'] = int(curCourse['class capacity'][courseId])\n",
    "                cur_dict['courses'][curMem.index[x]]['courseDescription'] = curCourse['course description'][courseId]\n",
    "                #print(cur_dict.get('courses'))\n",
    "    for y in range(len(fam_members)): \n",
    "        curFam = fam_members.iloc[y]\n",
    "        if curFam['groupMemberRelative'] == curMem['id']: \n",
    "            if not cur_dict.get('fam_members'): \n",
    "                cur_dict['fam_members'] = {}\n",
    "            cur_dict['fam_members'][curFam['name']] = {}\n",
    "            cur_dict['fam_members'][curFam['name']]['relation'] = curFam['relation']\n",
    "            cur_dict['fam_members'][curFam['name']]['age'] = int(curFam['age'])\n",
    "            cur_dict['fam_members'][curFam['name']]['gender'] = curFam['gender']\n",
    "            cur_dict['fam_members'][curFam['name']]['birthday'] = curFam['birthday']\n",
    "            cur_dict['fam_members'][curFam['name']]['favIceCream'] = curFam['favIceCream']\n",
    "            cur_dict['fam_members'][curFam['name']]['petCount'] = curFam['petCount']\n",
    "            if not pd.isna(curFam['pet1Name']): \n",
    "                cur_dict['fam_members'][curFam['name']]['pet1Name'] = pets.loc[pets['id '] == curFam['pet1Name']].to_dict('records')[0]\n",
    "            if not pd.isna(curFam['pet2Name']): \n",
    "                cur_dict['fam_members'][curFam['name']]['pet2Name'] = pets.loc[pets['id '] == curFam['pet2Name']].reset_index().to_dict('records')[0]\n",
    "            cur_dict['fam_members'][curFam['name']]['enrolledAtUVA'] = bool((curFam['enrolledAtUVA']))\n",
    "            \n",
    "    cur_dict = correct_encoding(cur_dict)\n",
    "    collection.insert_one(cur_dict)"
   ]
  },
  {
   "cell_type": "code",
   "execution_count": 14,
   "metadata": {},
   "outputs": [
    {
     "data": {
      "text/plain": [
       "Index(['id ', 'name', 'species', 'breed', 'gender', 'age', 'ownerGroup',\n",
       "       'color', 'since'],\n",
       "      dtype='object')"
      ]
     },
     "execution_count": 14,
     "metadata": {},
     "output_type": "execute_result"
    }
   ],
   "source": [
    "pets.columns"
   ]
  },
  {
   "cell_type": "markdown",
   "metadata": {},
   "source": [
    "## MongoDB Queries\n",
    "https://www.geeksforgeeks.org/nested-queries-in-pymongo/\n",
    "\n",
    "https://pymongo.readthedocs.io/en/stable/examples/aggregation.html"
   ]
  },
  {
   "cell_type": "markdown",
   "metadata": {},
   "source": [
    "https://www.tutorialspoint.com/mongodb/mongodb_query_document.htm"
   ]
  },
  {
   "cell_type": "code",
   "execution_count": 15,
   "metadata": {},
   "outputs": [],
   "source": [
    "from bson.son import SON"
   ]
  },
  {
   "cell_type": "markdown",
   "metadata": {},
   "source": [
    "**How many documents are there?**"
   ]
  },
  {
   "cell_type": "code",
   "execution_count": 16,
   "metadata": {},
   "outputs": [
    {
     "data": {
      "text/plain": [
       "5"
      ]
     },
     "execution_count": 16,
     "metadata": {},
     "output_type": "execute_result"
    }
   ],
   "source": [
    "collection.count_documents({})"
   ]
  },
  {
   "cell_type": "markdown",
   "metadata": {},
   "source": [
    "**Which group members are taking classes in the CS department?**"
   ]
  },
  {
   "cell_type": "code",
   "execution_count": 17,
   "metadata": {},
   "outputs": [
    {
     "name": "stdout",
     "output_type": "stream",
     "text": [
      "Anna Grace Calhoun\n",
      "Daniel Tohti\n",
      "David Siamon\n"
     ]
    }
   ],
   "source": [
    "for val in collection.find({ \"$or\": [\n",
    "         {'courses.course1.department': 'Computer Science'}, \n",
    "         {'courses.course2.department':'Computer Science'},\n",
    "        {'courses.course3.department':'Computer Science'}, \n",
    "        {'courses.course4.department':'Computer Science'}, \n",
    "         {'courses.course5.department':'Computer Science'},\n",
    "         {'courses.course6.department':'Computer Science'}, \n",
    "        {'courses.course7.department':'Computer Science'}\n",
    "      ]}): \n",
    "    print(val.get('name'))"
   ]
  },
  {
   "cell_type": "markdown",
   "metadata": {},
   "source": [
    "**What is the average age of the group members’ pets?**"
   ]
  },
  {
   "cell_type": "code",
   "execution_count": 18,
   "metadata": {},
   "outputs": [
    {
     "name": "stdout",
     "output_type": "stream",
     "text": [
      "The average pet age is 6.6 years.\n"
     ]
    }
   ],
   "source": [
    "def get_pet_avg(): \n",
    "    total = 0 \n",
    "    count = 0 \n",
    "    for val in collection.find({'pets.pet1.age': {\"$exists\":True}}): \n",
    "        total += (val.get('pets').get('pet1').get('age'))\n",
    "        count += 1      \n",
    "    for val in collection.find({'pets.pet2.age': {\"$exists\":True}}): \n",
    "        total += (val.get('pets').get('pet2').get('age'))\n",
    "        count += 1\n",
    "    return round(total/count, 2)\n",
    "print('The average pet age is', get_pet_avg(), 'years.')"
   ]
  },
  {
   "cell_type": "code",
   "execution_count": 19,
   "metadata": {},
   "outputs": [
    {
     "name": "stdout",
     "output_type": "stream",
     "text": [
      "{'_id': None, 'AverageValue': None}\n"
     ]
    }
   ],
   "source": [
    "for val in collection.aggregate([{\"$group\": {\"_id\":None, \"AverageValue\": {\"$avg\":\"pets.pet1.age\"} } }]): \n",
    "    print(val)"
   ]
  },
  {
   "cell_type": "markdown",
   "metadata": {},
   "source": [
    "**Which group members are over 20?**"
   ]
  },
  {
   "cell_type": "code",
   "execution_count": 20,
   "metadata": {},
   "outputs": [
    {
     "name": "stdout",
     "output_type": "stream",
     "text": [
      "Dare Nguyen\n",
      "dict_keys(['mnemonic', 'courseNumber', 'department', 'classTitle', 'professor', 'meetingDay(s)', 'type', 'classCapacity', 'courseDescription'])\n",
      "Danny Devito\n",
      "dict_keys(['mnemonic', 'courseNumber', 'department', 'classTitle', 'professor', 'meetingDay(s)', 'type', 'classCapacity', 'courseDescription'])\n"
     ]
    }
   ],
   "source": [
    "for val in collection.find({\"age\": {\"$gt\": 20}}): \n",
    "    print(val.get('name'))\n",
    "    print(val.get('courses').get('course1').keys())"
   ]
  },
  {
   "cell_type": "markdown",
   "metadata": {},
   "source": [
    "**What are the names and favorite ice creams of people taking CS 2150?**"
   ]
  },
  {
   "cell_type": "code",
   "execution_count": 21,
   "metadata": {},
   "outputs": [
    {
     "name": "stdout",
     "output_type": "stream",
     "text": [
      "Name: Daniel Tohti \n",
      "Favorite Ice Cream: Mint Chocolate Chip\n"
     ]
    }
   ],
   "source": [
    "for val in collection.find({ \"$or\": [\n",
    "         {'courses.course1.classTitle': 'Program & Data Representation'}, \n",
    "         {'courses.course2.classTitle':'Program & Data Representation'},\n",
    "        {'courses.course3.classTitle':'Program & Data Representation'}, \n",
    "        {'courses.course4.classTitle':'Program & Data Representation'}, \n",
    "         {'courses.course5.classTitle':'Program & Data Representation'},\n",
    "         {'courses.course6.classTitle':'Program & Data Representation'}, \n",
    "        {'courses.course7.classTitle':'Program & Data Representation'}\n",
    "      ]}): \n",
    "    print('Name:', val.get('name'), \"\\nFavorite Ice Cream:\", val.get('favIceCream'))"
   ]
  },
  {
   "cell_type": "markdown",
   "metadata": {},
   "source": [
    "**Whose family has the most unique ice cream flavors? What are they?**"
   ]
  },
  {
   "cell_type": "code",
   "execution_count": 22,
   "metadata": {},
   "outputs": [
    {
     "name": "stdout",
     "output_type": "stream",
     "text": [
      "{'Anna Grace Calhoun': 5, 'Daniel Tohti': 3, 'Dare Nguyen': 4, 'David Siamon': 3, 'Danny Devito': 3} \n",
      " ['Rocky Road', 'Mint Chocolate Chip', 'Cookies and Cream', 'Strawberry', 'Banana']\n"
     ]
    }
   ],
   "source": [
    "diff_flavors = {}\n",
    "for val in collection.find({\"name\": {\"$exists\": True}}): \n",
    "    diff_flavors[val.get('name')] = []\n",
    "    for x in val.get('fam_members').values():\n",
    "        if x.get('favIceCream') not in diff_flavors.get(val.get('name')): \n",
    "            diff_flavors[val.get('name')].append(x.get('favIceCream'))\n",
    "            \n",
    "length_dict = {key: len(value) for key, value in diff_flavors.items()}\n",
    "print(length_dict, \"\\n\", diff_flavors.get(\"Anna Grace Calhoun\"))"
   ]
  },
  {
   "cell_type": "markdown",
   "metadata": {},
   "source": [
    "**What is the average age of dog owners? Cat owners?**"
   ]
  },
  {
   "cell_type": "code",
   "execution_count": 23,
   "metadata": {},
   "outputs": [
    {
     "data": {
      "text/plain": [
       "(29.9375, 33.75)"
      ]
     },
     "execution_count": 23,
     "metadata": {},
     "output_type": "execute_result"
    }
   ],
   "source": [
    "def avg_cd_own_age(): \n",
    "    totalDog = 0 \n",
    "    countDog = 0 \n",
    "    totalCat = 0 \n",
    "    countCat = 0 \n",
    "    for val in collection.find({'pets.pet1': {\"$exists\":True}}): \n",
    "        if val.get('pets').get('pet1').get('species') == 'Dog': \n",
    "            totalDog += val.get('age')\n",
    "            countDog += 1\n",
    "        if val.get('pets').get('pet1').get('species') == 'Cat': \n",
    "            totalCat += val.get('age')\n",
    "            countCat += 1\n",
    "    for val in collection.find({'pets.pet2': {\"$exists\":True}}): \n",
    "        if val.get('pets').get('pet2').get('species') == 'Dog': \n",
    "            totalDog += val.get('age')\n",
    "            countDog += 1\n",
    "        if val.get('pets').get('pet2').get('species') == 'Cat': \n",
    "            totalCat += val.get('age')\n",
    "            countCat += 1\n",
    "            \n",
    "    for val in collection.find({\"name\": {\"$exists\": True}}): \n",
    "        for x in val.get('fam_members').values():\n",
    "            if x.get('pet1Name'): \n",
    "                if x.get('pet1Name').get('species') == 'Dog': \n",
    "                    totalDog += x.get('age')\n",
    "                    countDog += 1\n",
    "                if x.get('pet1Name').get('species') == 'Cat': \n",
    "                    totalCat += x.get('age')\n",
    "                    countCat += 1\n",
    "            if x.get('pet2Name'): \n",
    "                if x.get('pet2Name').get('species') == 'Dog': \n",
    "                    totalDog += x.get('age')\n",
    "                    countDog += 1\n",
    "                if x.get('pet2Name').get('species') == 'Cat': \n",
    "                    totalCat += x.get('age')\n",
    "                    countCat += 1\n",
    "    return totalDog/countDog, totalCat/countCat\n",
    "        \n",
    "avg_cd_own_age()"
   ]
  },
  {
   "cell_type": "markdown",
   "metadata": {},
   "source": [
    "**Which day of the week is most popular for lectures?**"
   ]
  },
  {
   "cell_type": "code",
   "execution_count": 24,
   "metadata": {},
   "outputs": [
    {
     "name": "stdout",
     "output_type": "stream",
     "text": [
      "[('W', 9), ('Tu', 10), ('Th', 10), ('T', 1), ('F', 6), ('M', 10)] \n",
      "Max number of courses on a day: 10\n"
     ]
    }
   ],
   "source": [
    "def most_pop_lect_day(): \n",
    "    all_days = []\n",
    "    for val in collection.find({\"name\": {\"$exists\": True}}): \n",
    "        for x in val.get('courses').values(): \n",
    "            if x.get('type') == 'Lecture': \n",
    "                all_days.extend(x.get('meetingDay(s)').split())\n",
    "    all_days = [x for xs in all_days for x in xs.split(',')]\n",
    "    all_days = [x for x in all_days if x != '']\n",
    "    return [(i,all_days.count(i)) for i in set(all_days)]\n",
    "\n",
    "from operator import itemgetter\n",
    "\n",
    "lis = most_pop_lect_day()\n",
    "print(lis, '\\nMax number of courses on a day:', max(lis,key=itemgetter(1))[1])"
   ]
  },
  {
   "cell_type": "code",
   "execution_count": null,
   "metadata": {},
   "outputs": [],
   "source": []
  }
 ],
 "metadata": {
  "kernelspec": {
   "display_name": "Python 3",
   "language": "python",
   "name": "python3"
  },
  "language_info": {
   "codemirror_mode": {
    "name": "ipython",
    "version": 3
   },
   "file_extension": ".py",
   "mimetype": "text/x-python",
   "name": "python",
   "nbconvert_exporter": "python",
   "pygments_lexer": "ipython3",
   "version": "3.7.4"
  }
 },
 "nbformat": 4,
 "nbformat_minor": 4
}
