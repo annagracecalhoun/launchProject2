{
 "cells": [
  {
   "cell_type": "markdown",
   "metadata": {},
   "source": [
    "## Creating the MongoDB Database"
   ]
  },
  {
   "cell_type": "code",
   "execution_count": null,
   "metadata": {},
   "outputs": [],
   "source": [
    "#!pip install pymongo"
   ]
  },
  {
   "cell_type": "code",
   "execution_count": 2,
   "metadata": {},
   "outputs": [],
   "source": [
    "import pymongo"
   ]
  },
  {
   "cell_type": "markdown",
   "metadata": {},
   "source": [
    "Start the mongo daemon!"
   ]
  },
  {
   "cell_type": "code",
   "execution_count": 3,
   "metadata": {},
   "outputs": [],
   "source": [
    "from pymongo import MongoClient\n",
    "import pandas as pd"
   ]
  },
  {
   "cell_type": "code",
   "execution_count": 4,
   "metadata": {},
   "outputs": [],
   "source": [
    "import numpy as np"
   ]
  },
  {
   "cell_type": "code",
   "execution_count": 5,
   "metadata": {},
   "outputs": [],
   "source": [
    "client = MongoClient('localhost', 27017)\n",
    "db = client.project2 #Create the database"
   ]
  },
  {
   "cell_type": "code",
   "execution_count": 6,
   "metadata": {},
   "outputs": [],
   "source": [
    "#Create the Group Member collection\n",
    "collection = db.groupMember"
   ]
  },
  {
   "cell_type": "code",
   "execution_count": 7,
   "metadata": {},
   "outputs": [],
   "source": [
    "courses = pd.read_csv('courses.csv', encoding = \"ISO-8859-1\", engine='python') \n",
    "fam_members = pd.read_csv('familyMembers.csv', encoding = \"ISO-8859-1\", engine='python') \n",
    "group_members = pd.read_csv('groupMembers.csv', encoding = \"ISO-8859-1\", engine='python') \n",
    "pets = pd.read_csv('pets.csv', encoding = \"ISO-8859-1\", engine='python') "
   ]
  },
  {
   "cell_type": "code",
   "execution_count": 79,
   "metadata": {},
   "outputs": [],
   "source": [
    "group_members['age'] = group_members['age'].apply(lambda x: int(str(x)))\n",
    "group_members['petCount'] = group_members['petCount'].apply(lambda x: int(str(x)))\n",
    "group_members = group_members.astype({'inState': 'bool'})"
   ]
  },
  {
   "cell_type": "code",
   "execution_count": 80,
   "metadata": {},
   "outputs": [],
   "source": [
    "courses['course number'] = courses['course number'].apply(lambda x: int(str(x)))\n",
    "courses['class capacity'] = courses['class capacity'].apply(lambda x: int(str(x)))"
   ]
  },
  {
   "cell_type": "code",
   "execution_count": 81,
   "metadata": {},
   "outputs": [],
   "source": [
    "fam_members['age'] = fam_members['age'].apply(lambda x: int(str(x)))\n",
    "fam_members = fam_members.astype({'enrolledAtUVA': 'bool'})"
   ]
  },
  {
   "cell_type": "code",
   "execution_count": 84,
   "metadata": {},
   "outputs": [],
   "source": [
    "pets['age'] = pets['age'].apply(lambda x: int(str(x)))"
   ]
  },
  {
   "cell_type": "code",
   "execution_count": 87,
   "metadata": {},
   "outputs": [],
   "source": [
    "def correct_encoding(dictionary):\n",
    "    \"\"\"Correct the encoding of python dictionaries so they can be encoded to mongodb\n",
    "    inputs\n",
    "    -------\n",
    "    dictionary : dictionary instance to add as document\n",
    "    output\n",
    "    -------\n",
    "    new : new dictionary with (hopefully) corrected encodings\"\"\"\n",
    "\n",
    "    new = {}\n",
    "    for key1, val1 in dictionary.items():\n",
    "        # Nested dictionaries\n",
    "        if isinstance(val1, dict):\n",
    "            val1 = correct_encoding(val1)\n",
    "\n",
    "        if isinstance(val1, np.bool_):\n",
    "            val1 = bool(val1)\n",
    "\n",
    "        if isinstance(val1, np.int64):\n",
    "            val1 = int(val1)\n",
    "\n",
    "        if isinstance(val1, np.float64):\n",
    "            val1 = float(val1)\n",
    "\n",
    "        new[key1] = val1\n",
    "\n",
    "    return new"
   ]
  },
  {
   "cell_type": "markdown",
   "metadata": {},
   "source": [
    "### Restructuring data into python dicts"
   ]
  },
  {
   "cell_type": "code",
   "execution_count": 88,
   "metadata": {},
   "outputs": [],
   "source": [
    "for i in range(len(group_members)):    # loop through group members \n",
    "    curMem = group_members.iloc[i]\n",
    "    #print(curMem)\n",
    "    cur_dict = {}\n",
    "    for x in range(len(curMem)): \n",
    "        #print(x, curMem.index[x])\n",
    "        if x!=0 and x < 7:              # name - siblingCount props\n",
    "            cur_dict[curMem.index[x]] = curMem[x]\n",
    "        if x == 10 or x >19:           # petCount and major - inState props\n",
    "            cur_dict[curMem.index[x]] = curMem[x]\n",
    "        if x > 12 and x <20:           # courses \n",
    "            if not pd.isna(curMem[x]): # if not null, find in courses df \n",
    "                courseId = curMem[x]\n",
    "                curCourse = pd.DataFrame(courses.loc[courses['id'] == courseId])\n",
    "                if not cur_dict.get('courses'): \n",
    "                    cur_dict['courses'] = {}\n",
    "                #print(curCourse['course mnemonic'][courseId])\n",
    "                cur_dict['courses'][curMem.index[x]] = {}\n",
    "                cur_dict['courses'][curMem.index[x]]['mnemonic'] = curCourse['course mnemonic'][courseId]\n",
    "                cur_dict['courses'][curMem.index[x]]['course number'] = int(curCourse['course number'][courseId])\n",
    "                cur_dict['courses'][curMem.index[x]]['department'] = curCourse['department'][courseId]\n",
    "                cur_dict['courses'][curMem.index[x]]['class title'] = curCourse['class title'][courseId]\n",
    "                cur_dict['courses'][curMem.index[x]]['professor'] = curCourse['professor'][courseId]\n",
    "                cur_dict['courses'][curMem.index[x]]['meeting day(s)'] = curCourse['meeting day(s)'][courseId]\n",
    "                cur_dict['courses'][curMem.index[x]]['type'] = curCourse['type'][courseId]\n",
    "                cur_dict['courses'][curMem.index[x]]['class capacity'] = int(curCourse['class capacity'][courseId])\n",
    "                cur_dict['courses'][curMem.index[x]]['course description'] = curCourse['course description'][courseId]\n",
    "                #print(cur_dict.get('courses'))\n",
    "    for y in range(len(fam_members)): \n",
    "        curFam = fam_members.iloc[y]\n",
    "        if curFam['groupMemberRelative'] == curMem['id']: \n",
    "            if not cur_dict.get('fam_members'): \n",
    "                cur_dict['fam_members'] = {}\n",
    "            cur_dict['fam_members'][curFam['name']] = {}\n",
    "            cur_dict['fam_members'][curFam['name']]['relation'] = curFam['relation']\n",
    "            cur_dict['fam_members'][curFam['name']]['age'] = int(curFam['age'])\n",
    "            cur_dict['fam_members'][curFam['name']]['gender'] = curFam['gender']\n",
    "            cur_dict['fam_members'][curFam['name']]['birthday'] = curFam['birthday']\n",
    "            cur_dict['fam_members'][curFam['name']]['favIceCream'] = curFam['favIceCream']\n",
    "            cur_dict['fam_members'][curFam['name']]['petCount'] = curFam['petCount']\n",
    "            cur_dict['fam_members'][curFam['name']]['enrolledAtUVA'] = bool((curFam['enrolledAtUVA']))\n",
    "            \n",
    "    cur_dict = correct_encoding(cur_dict)\n",
    "    collection.insert_one(cur_dict)"
   ]
  },
  {
   "cell_type": "code",
   "execution_count": null,
   "metadata": {},
   "outputs": [],
   "source": []
  },
  {
   "cell_type": "code",
   "execution_count": null,
   "metadata": {},
   "outputs": [],
   "source": []
  }
 ],
 "metadata": {
  "kernelspec": {
   "display_name": "Python 3",
   "language": "python",
   "name": "python3"
  },
  "language_info": {
   "codemirror_mode": {
    "name": "ipython",
    "version": 3
   },
   "file_extension": ".py",
   "mimetype": "text/x-python",
   "name": "python",
   "nbconvert_exporter": "python",
   "pygments_lexer": "ipython3",
   "version": "3.7.4"
  }
 },
 "nbformat": 4,
 "nbformat_minor": 4
}
