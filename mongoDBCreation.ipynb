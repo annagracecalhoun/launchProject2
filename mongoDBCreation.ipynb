{
 "cells": [
  {
   "cell_type": "markdown",
   "metadata": {},
   "source": [
    "## Creating the MongoDB Database"
   ]
  },
  {
   "cell_type": "code",
   "execution_count": 1,
   "metadata": {},
   "outputs": [
    {
     "name": "stdout",
     "output_type": "stream",
     "text": [
      "Collecting pymongo\n",
      "  Downloading https://files.pythonhosted.org/packages/61/f1/3dc7b0579b22bd7e91992dfcbd96f93e5a3e5715f3c7a1fed8a4d6f77a68/pymongo-3.11.4-cp37-cp37m-win_amd64.whl (382kB)\n",
      "Installing collected packages: pymongo\n",
      "Successfully installed pymongo-3.11.4\n"
     ]
    },
    {
     "name": "stderr",
     "output_type": "stream",
     "text": [
      "Error processing line 7 of C:\\Users\\annag\\Anaconda3\\lib\\site-packages\\pywin32.pth:\n",
      "\n",
      "  Traceback (most recent call last):\n",
      "    File \"C:\\Users\\annag\\Anaconda3\\lib\\site.py\", line 168, in addpackage\n",
      "      exec(line)\n",
      "    File \"<string>\", line 1, in <module>\n",
      "  ModuleNotFoundError: No module named 'pywin32_bootstrap'\n",
      "\n",
      "Remainder of file ignored\n"
     ]
    }
   ],
   "source": [
    "!pip install pymongo"
   ]
  },
  {
   "cell_type": "code",
   "execution_count": 2,
   "metadata": {},
   "outputs": [],
   "source": [
    "import pymongo"
   ]
  },
  {
   "cell_type": "markdown",
   "metadata": {},
   "source": [
    "Start the mongo daemon!"
   ]
  },
  {
   "cell_type": "code",
   "execution_count": 3,
   "metadata": {},
   "outputs": [],
   "source": [
    "from pymongo import MongoClient\n",
    "import pandas as pd"
   ]
  },
  {
   "cell_type": "code",
   "execution_count": 33,
   "metadata": {},
   "outputs": [],
   "source": [
    "import numpy as np"
   ]
  },
  {
   "cell_type": "code",
   "execution_count": 4,
   "metadata": {},
   "outputs": [],
   "source": [
    "client = MongoClient('localhost', 27017)\n",
    "db = client.project2 #Create the database"
   ]
  },
  {
   "cell_type": "code",
   "execution_count": 5,
   "metadata": {},
   "outputs": [],
   "source": [
    "#Create the Group Member collection\n",
    "collection = db.groupMember"
   ]
  },
  {
   "cell_type": "code",
   "execution_count": 6,
   "metadata": {},
   "outputs": [],
   "source": [
    "courses = pd.read_csv('courses.csv', encoding = \"ISO-8859-1\", engine='python') \n",
    "fam_members = pd.read_csv('familyMembers.csv', encoding = \"ISO-8859-1\", engine='python') \n",
    "group_members = pd.read_csv('groupMembers.csv', encoding = \"ISO-8859-1\", engine='python') \n",
    "pets = pd.read_csv('pets.csv', encoding = \"ISO-8859-1\", engine='python') "
   ]
  },
  {
   "cell_type": "markdown",
   "metadata": {},
   "source": [
    "### Restructuring data into python dicts"
   ]
  },
  {
   "cell_type": "code",
   "execution_count": 41,
   "metadata": {},
   "outputs": [
    {
     "name": "stdout",
     "output_type": "stream",
     "text": [
      "1\n",
      "3\n",
      "5.0\n",
      "8.0\n",
      "10.0\n",
      "14.0\n",
      "15.0\n",
      "{'name': 'Anna Grace Calhoun', 'birthday': '2001/06/11', 'birthCity': 'Boston, MA', 'hometown': 'Charlottesville, VA', 'age': 19, 'siblingCount': 3, 'petCount': 1, 'major': 'Computer Science, Public Policy and Leadership', 'favIceCream': 'Chocolate', 'inState': 1}\n",
      "0\n",
      "2\n",
      "12.0\n",
      "4.0\n",
      "6.0\n",
      "7.0\n",
      "9.0\n",
      "{'name': 'Daniel Tohti', 'birthday': '2001/12/28', 'birthCity': 'Gainesville, FL', 'hometown': 'Fairfax, VA', 'age': 19, 'siblingCount': 2, 'petCount': 1, 'major': 'Aerospace Engineering', 'favIceCream': 'Mint Chocolate Chip', 'inState': 1}\n",
      "11\n",
      "16\n",
      "13.0\n",
      "17.0\n",
      "{'name': 'Dare Nguyen', 'birthday': '1996/09/03', 'birthCity': 'Virginia Beach, VA', 'hometown': 'Virginia Beach, VA', 'age': 24, 'siblingCount': 3, 'petCount': 1, 'major': 'Psychology', 'favIceCream': 'Cookies and Cream', 'inState': 1}\n",
      "18\n",
      "19\n",
      "20.0\n",
      "21.0\n",
      "22.0\n",
      "{'name': 'David Siamon', 'birthday': '2014/05/30', 'birthCity': 'Reston, VA', 'hometown': 'Fairfax, VA', 'age': 7, 'siblingCount': 1, 'petCount': 2, 'major': 'Mathematics, Computer Science', 'favIceCream': 'Melted', 'inState': 1}\n",
      "14\n",
      "23\n",
      "{'name': 'Danny Devito', 'birthday': '1944/11/17', 'birthCity': 'Neptune Township, NJ', 'hometown': 'Neptune Township, NJ', 'age': 76, 'siblingCount': 0, 'petCount': 0, 'major': 'Acting', 'favIceCream': 'Chocolate', 'inState': 0}\n"
     ]
    }
   ],
   "source": [
    "for i in range(len(group_members)):    # loop through group members \n",
    "    curMem = group_members.iloc[i]\n",
    "    #print(curMem)\n",
    "    cur_dict = {}\n",
    "    for x in range(len(curMem)): \n",
    "        #print(x, curMem.index[x])\n",
    "        if x!=0 and x < 7:              # name - siblingCount props\n",
    "            cur_dict[curMem.index[x]] = curMem[x]\n",
    "        if x == 10 or x >19:           # petCount and major - inState props\n",
    "            cur_dict[curMem.index[x]] = curMem[x]\n",
    "        if x > 12 and x <20:           # courses \n",
    "            if not pd.isna(curMem[x]): # if not null, find in courses df \n",
    "                print(curMem[x])\n",
    "    print(cur_dict)"
   ]
  },
  {
   "cell_type": "code",
   "execution_count": null,
   "metadata": {},
   "outputs": [],
   "source": []
  }
 ],
 "metadata": {
  "kernelspec": {
   "display_name": "Python 3",
   "language": "python",
   "name": "python3"
  },
  "language_info": {
   "codemirror_mode": {
    "name": "ipython",
    "version": 3
   },
   "file_extension": ".py",
   "mimetype": "text/x-python",
   "name": "python",
   "nbconvert_exporter": "python",
   "pygments_lexer": "ipython3",
   "version": "3.7.4"
  }
 },
 "nbformat": 4,
 "nbformat_minor": 4
}
