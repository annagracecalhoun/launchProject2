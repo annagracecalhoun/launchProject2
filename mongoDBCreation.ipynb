{
 "cells": [
  {
   "cell_type": "markdown",
   "metadata": {},
   "source": [
    "## Creating the MongoDB Database"
   ]
  },
  {
   "cell_type": "code",
   "execution_count": 1,
   "metadata": {},
   "outputs": [],
   "source": [
    "#!pip install pymongo"
   ]
  },
  {
   "cell_type": "code",
   "execution_count": 2,
   "metadata": {},
   "outputs": [],
   "source": [
    "import pymongo"
   ]
  },
  {
   "cell_type": "markdown",
   "metadata": {},
   "source": [
    "Start the mongo daemon!"
   ]
  },
  {
   "cell_type": "code",
   "execution_count": 3,
   "metadata": {},
   "outputs": [],
   "source": [
    "from pymongo import MongoClient\n",
    "import pandas as pd"
   ]
  },
  {
   "cell_type": "code",
   "execution_count": 4,
   "metadata": {},
   "outputs": [],
   "source": [
    "import numpy as np"
   ]
  },
  {
   "cell_type": "code",
   "execution_count": 5,
   "metadata": {},
   "outputs": [],
   "source": [
    "client = MongoClient('localhost', 27017)\n",
    "db = client.project2 #Create the database"
   ]
  },
  {
   "cell_type": "code",
   "execution_count": 6,
   "metadata": {},
   "outputs": [],
   "source": [
    "#Create the Group Member collection\n",
    "collection = db.groupMember"
   ]
  },
  {
   "cell_type": "code",
   "execution_count": 7,
   "metadata": {},
   "outputs": [],
   "source": [
    "courses = pd.read_csv('courses.csv', encoding = \"ISO-8859-1\", engine='python') \n",
    "fam_members = pd.read_csv('familyMembers.csv', encoding = \"ISO-8859-1\", engine='python') \n",
    "group_members = pd.read_csv('groupMembers.csv', encoding = \"ISO-8859-1\", engine='python') \n",
    "pets = pd.read_csv('pets.csv', encoding = \"ISO-8859-1\", engine='python') "
   ]
  },
  {
   "cell_type": "code",
   "execution_count": 8,
   "metadata": {},
   "outputs": [],
   "source": [
    "group_members['age'] = group_members['age'].apply(lambda x: int(str(x)))\n",
    "group_members['petCount'] = group_members['petCount'].apply(lambda x: int(str(x)))\n",
    "group_members = group_members.astype({'inState': 'bool'})"
   ]
  },
  {
   "cell_type": "code",
   "execution_count": 9,
   "metadata": {},
   "outputs": [],
   "source": [
    "courses['course number'] = courses['course number'].apply(lambda x: int(str(x)))\n",
    "courses['class capacity'] = courses['class capacity'].apply(lambda x: int(str(x)))"
   ]
  },
  {
   "cell_type": "code",
   "execution_count": 10,
   "metadata": {},
   "outputs": [],
   "source": [
    "fam_members['age'] = fam_members['age'].apply(lambda x: int(str(x)))\n",
    "fam_members = fam_members.astype({'enrolledAtUVA': 'bool'})"
   ]
  },
  {
   "cell_type": "code",
   "execution_count": 11,
   "metadata": {},
   "outputs": [],
   "source": [
    "pets['age'] = pets['age'].apply(lambda x: int(float(str(x))))"
   ]
  },
  {
   "cell_type": "code",
   "execution_count": 12,
   "metadata": {},
   "outputs": [],
   "source": [
    "def correct_encoding(dictionary):\n",
    "    \"\"\"Correct the encoding of python dictionaries so they can be encoded to mongodb\n",
    "    inputs\n",
    "    -------\n",
    "    dictionary : dictionary instance to add as document\n",
    "    output\n",
    "    -------\n",
    "    new : new dictionary with (hopefully) corrected encodings\"\"\"\n",
    "\n",
    "    new = {}\n",
    "    for key1, val1 in dictionary.items():\n",
    "        # Nested dictionaries\n",
    "        if isinstance(val1, dict):\n",
    "            val1 = correct_encoding(val1)\n",
    "\n",
    "        if isinstance(val1, np.bool_):\n",
    "            val1 = bool(val1)\n",
    "\n",
    "        if isinstance(val1, np.int64):\n",
    "            val1 = int(val1)\n",
    "\n",
    "        if isinstance(val1, np.float64):\n",
    "            val1 = float(val1)\n",
    "\n",
    "        new[key1] = val1\n",
    "\n",
    "    return new"
   ]
  },
  {
   "cell_type": "markdown",
   "metadata": {},
   "source": [
    "### Restructuring data into python dicts"
   ]
  },
  {
   "cell_type": "code",
   "execution_count": 13,
   "metadata": {},
   "outputs": [],
   "source": [
    "for i in range(len(group_members)):    # loop through group members \n",
    "    curMem = group_members.iloc[i]\n",
    "    #print(curMem)\n",
    "    cur_dict = {}\n",
    "    for x in range(len(curMem)): \n",
    "       # print(x, curMem.index[x])\n",
    "        if x!=0 and x < 7:              # name - siblingCount props\n",
    "            cur_dict[curMem.index[x]] = curMem[x]\n",
    "        if x == 10 or x >19:           # petCount and major - inState props\n",
    "            cur_dict[curMem.index[x]] = curMem[x]\n",
    "        if x == 11 or x == 12:           # pets \n",
    "            if not pd.isna(curMem[x]):   # if not null find in the pets df \n",
    "                petId = curMem[x]\n",
    "                curPet = pd.DataFrame(pets.loc[pets['id '] == petId]).reset_index()\n",
    "                if not cur_dict.get('pets'): \n",
    "                    cur_dict['pets'] = {}\n",
    "               # print(curPet['name'])\n",
    "                cur_dict['pets'][curMem.index[x]] = {}\n",
    "                cur_dict['pets'][curMem.index[x]]['name'] = curPet['name'][0]\n",
    "                cur_dict['pets'][curMem.index[x]]['species'] = curPet['species'][0]\n",
    "                cur_dict['pets'][curMem.index[x]]['breed'] = curPet['breed'][0]\n",
    "                cur_dict['pets'][curMem.index[x]]['gender'] = curPet['gender'][0]\n",
    "                cur_dict['pets'][curMem.index[x]]['age'] = curPet['age'][0]\n",
    "                cur_dict['pets'][curMem.index[x]]['color'] = curPet['color'][0]\n",
    "        if x > 12 and x <20:           # courses \n",
    "            if not pd.isna(curMem[x]): # if not null, find in courses df \n",
    "                courseId = curMem[x]\n",
    "                curCourse = pd.DataFrame(courses.loc[courses['id'] == courseId])\n",
    "                if not cur_dict.get('courses'): \n",
    "                    cur_dict['courses'] = {}\n",
    "                #print(curCourse['course mnemonic'][courseId])\n",
    "                cur_dict['courses'][curMem.index[x]] = {}\n",
    "                cur_dict['courses'][curMem.index[x]]['mnemonic'] = curCourse['course mnemonic'][courseId]\n",
    "                cur_dict['courses'][curMem.index[x]]['courseNumber'] = int(curCourse['course number'][courseId])\n",
    "                cur_dict['courses'][curMem.index[x]]['department'] = curCourse['department'][courseId]\n",
    "                cur_dict['courses'][curMem.index[x]]['classTitle'] = curCourse['class title'][courseId]\n",
    "                cur_dict['courses'][curMem.index[x]]['professor'] = curCourse['professor'][courseId]\n",
    "                cur_dict['courses'][curMem.index[x]]['meetingDay(s)'] = curCourse['meeting day(s)'][courseId]\n",
    "                cur_dict['courses'][curMem.index[x]]['type'] = curCourse['type'][courseId]\n",
    "                cur_dict['courses'][curMem.index[x]]['classCapacity'] = int(curCourse['class capacity'][courseId])\n",
    "                cur_dict['courses'][curMem.index[x]]['courseDescription'] = curCourse['course description'][courseId]\n",
    "                #print(cur_dict.get('courses'))\n",
    "    for y in range(len(fam_members)): \n",
    "        curFam = fam_members.iloc[y]\n",
    "        if curFam['groupMemberRelative'] == curMem['id']: \n",
    "            if not cur_dict.get('fam_members'): \n",
    "                cur_dict['fam_members'] = {}\n",
    "            cur_dict['fam_members'][curFam['name']] = {}\n",
    "            cur_dict['fam_members'][curFam['name']]['relation'] = curFam['relation']\n",
    "            cur_dict['fam_members'][curFam['name']]['age'] = int(curFam['age'])\n",
    "            cur_dict['fam_members'][curFam['name']]['gender'] = curFam['gender']\n",
    "            cur_dict['fam_members'][curFam['name']]['birthday'] = curFam['birthday']\n",
    "            cur_dict['fam_members'][curFam['name']]['favIceCream'] = curFam['favIceCream']\n",
    "            cur_dict['fam_members'][curFam['name']]['petCount'] = curFam['petCount']\n",
    "            cur_dict['fam_members'][curFam['name']]['enrolledAtUVA'] = bool((curFam['enrolledAtUVA']))\n",
    "            \n",
    "    cur_dict = correct_encoding(cur_dict)\n",
    "    collection.insert_one(cur_dict)"
   ]
  },
  {
   "cell_type": "code",
   "execution_count": 14,
   "metadata": {},
   "outputs": [
    {
     "data": {
      "text/plain": [
       "Index(['id ', 'name', 'species', 'breed', 'gender', 'age', 'ownerGroup',\n",
       "       'color'],\n",
       "      dtype='object')"
      ]
     },
     "execution_count": 14,
     "metadata": {},
     "output_type": "execute_result"
    }
   ],
   "source": [
    "pets.columns"
   ]
  },
  {
   "cell_type": "markdown",
   "metadata": {},
   "source": [
    "## MongoDB Queries\n",
    "https://www.geeksforgeeks.org/nested-queries-in-pymongo/\n",
    "\n",
    "https://pymongo.readthedocs.io/en/stable/examples/aggregation.html"
   ]
  },
  {
   "cell_type": "markdown",
   "metadata": {},
   "source": [
    "https://www.tutorialspoint.com/mongodb/mongodb_query_document.htm"
   ]
  },
  {
   "cell_type": "code",
   "execution_count": 15,
   "metadata": {},
   "outputs": [],
   "source": [
    "from bson.son import SON"
   ]
  },
  {
   "cell_type": "code",
   "execution_count": 16,
   "metadata": {},
   "outputs": [
    {
     "data": {
      "text/plain": [
       "5"
      ]
     },
     "execution_count": 16,
     "metadata": {},
     "output_type": "execute_result"
    }
   ],
   "source": [
    "collection.count_documents({})"
   ]
  },
  {
   "cell_type": "markdown",
   "metadata": {},
   "source": [
    "Which group members are taking classes in the CS department?"
   ]
  },
  {
   "cell_type": "code",
   "execution_count": 17,
   "metadata": {},
   "outputs": [
    {
     "name": "stdout",
     "output_type": "stream",
     "text": [
      "Anna Grace Calhoun\n",
      "Daniel Tohti\n",
      "David Siamon\n"
     ]
    }
   ],
   "source": [
    "for val in collection.find({ \"$or\": [\n",
    "         {'courses.course1.department': 'Computer Science'}, \n",
    "         {'courses.course2.department':'Computer Science'},\n",
    "        {'courses.course3.department':'Computer Science'}, \n",
    "        {'courses.course4.department':'Computer Science'}, \n",
    "         {'courses.course5.department':'Computer Science'},\n",
    "         {'courses.course6.department':'Computer Science'}, \n",
    "        {'courses.course7.department':'Computer Science'}\n",
    "      ]}): \n",
    "    print(val.get('name'))"
   ]
  },
  {
   "cell_type": "markdown",
   "metadata": {},
   "source": [
    "What is the average age of the group members’ pets?"
   ]
  },
  {
   "cell_type": "code",
   "execution_count": 18,
   "metadata": {},
   "outputs": [
    {
     "data": {
      "text/plain": [
       "<pymongo.cursor.Cursor at 0x24a519d6548>"
      ]
     },
     "execution_count": 18,
     "metadata": {},
     "output_type": "execute_result"
    }
   ],
   "source": [
    "collection.find({\"$avg\" :\"pets:pet1:age\" })"
   ]
  },
  {
   "cell_type": "markdown",
   "metadata": {},
   "source": [
    "Which group members are over 20?"
   ]
  },
  {
   "cell_type": "code",
   "execution_count": 19,
   "metadata": {},
   "outputs": [
    {
     "name": "stdout",
     "output_type": "stream",
     "text": [
      "{'_id': ObjectId('60b9006d3734963720142e96'), 'name': 'Daniel Tohti', 'birthday': '2001/12/28', 'birthCity': 'Gainesville, FL', 'hometown': 'Fairfax, VA', 'age': 19, 'siblingCount': 2, 'petCount': 1, 'pets': {'pet1': {'name': 'Leo', 'species': 'Dog', 'breed': 'German Shepherd', 'gender': 'M', 'age': 2, 'color': 'Black'}}, 'courses': {'course1': {'mnemonic': 'APMA', 'courseNumber': 3140, 'department': 'Applied Mathematics', 'classTitle': 'Partial Differential Equations', 'professor': 'Diana Morris', 'meetingDay(s)': 'M,W,F', 'type': 'Lecture', 'classCapacity': 300, 'courseDescription': 'Partial differential equations that govern physical phenomena in science and engineering. Separation of variables, superposition, Fourier series, Sturm-Liouville eigenvalue problems, eigenfunction expansion techniques. Particular focus on the heat, wave, and Laplace partial differential equations in rectangular, cylindrical, and spherical coordinates.'}, 'course2': {'mnemonic': 'APMA', 'courseNumber': 3501, 'department': 'Applied Mathematics', 'classTitle': 'Spec Topics in APMA ', 'professor': 'Gianluca Guadagni', 'meetingDay(s)': 'M', 'type': 'Lecture', 'classCapacity': 75, 'courseDescription': 'Applies mathematical techniques to special problems of current interest. Topic for each semester are announced at the time of course enrollment.'}, 'course3': {'mnemonic': 'CS', 'courseNumber': 2150, 'department': 'Computer Science', 'classTitle': 'Program & Data Representation', 'professor': 'Aaron Bloomfield', 'meetingDay(s)': 'M, Tu, W, F', 'type': 'Lecture', 'classCapacity': 485, 'courseDescription': 'Introduces programs and data representation at the machine level. Data structuring techniques and the representation of data structures during program execution. Operations and control structures and their representation during program execution. Representations of numbers, arithmetic operations, arrays, records, recursion, hashing, stacks, queues, trees, graphs, and related concepts.'}, 'course4': {'mnemonic': 'MAE', 'courseNumber': 2040, 'department': 'Mechanical & Aerospace Engineering', 'classTitle': 'Computer Aided Design', 'professor': 'Shawn Russell', 'meetingDay(s)': 'M', 'type': 'Lab', 'classCapacity': 25, 'courseDescription': 'Communication through engineering graphics; engineering drawing interpretation, sectioning, auxiliary views; and analysis and design of mechanical devices. Workshop includes CAD and solid modeling.'}, 'course5': {'mnemonic': 'MAE', 'courseNumber': 2030, 'department': 'Mechanical & Aerospace Engineering', 'classTitle': 'Intro to Aerospace Engineering', 'professor': 'Robert Rockwell', 'meetingDay(s)': 'Tu, Th', 'type': 'Lecture', 'classCapacity': 210, 'courseDescription': 'Historical introduction, standard atmosphere, basic aerodynamics, airfoils and wings, flight mechanics, stability and control, propulsion (airbreathing, rocket and space), orbital mechanics.'}, 'course6': {'mnemonic': 'MAE', 'courseNumber': 2300, 'department': 'Mechanical & Aerospace Engineering', 'classTitle': 'Statics', 'professor': 'Marek-Jerzy Pindera', 'meetingDay(s)': 'Tu, Th', 'type': 'Lecture', 'classCapacity': 170, 'courseDescription': 'Basic concepts of mechanics, systems of forces and couples: equilibrium of particles and rigid bodies; analysis of structures: trusses, frames, machines; internal forces, shear and bending moment diagrams; distributed forces; friction, centroids and moments of inertia; introduction to stress and strain; computer applications. Cross-listed as CE 2300.'}, 'course7': {'mnemonic': 'STS', 'courseNumber': 2050, 'department': 'Engineering & Society', 'classTitle': 'Sustainable Energy Systems', 'professor': 'James Groves', 'meetingDay(s)': 'Th', 'type': 'Lecture', 'classCapacity': 375, 'courseDescription': \"This course investigates a major source of human impact upon the Earth - energy consumption to fuel human activity. The course a) provides a cross-disciplinary perspective on the challenge of human-centered energy use, b) explains the historical origins of today's energy systems, c) describes current energy systems, d) examines the components of sustainable energy systems, and e) considers keys to their deployment.\"}}, 'major': 'Aerospace Engineering', 'favIceCream': 'Mint Chocolate Chip', 'inState': True, 'fam_members': {'Izdar Tohti': {'relation': 'brother', 'age': 17, 'gender': 'M', 'birthday': '2004/04/03', 'favIceCream': 'Mint Chocolate Chip', 'petCount': 1, 'enrolledAtUVA': False}, 'Shepket Tohti': {'relation': 'brother', 'age': 26, 'gender': 'M', 'birthday': '1994/08/11', 'favIceCream': 'Vanilla', 'petCount': 1, 'enrolledAtUVA': False}, 'Awat Tohti': {'relation': 'mother', 'age': 51, 'gender': 'F', 'birthday': '1970/03/23', 'favIceCream': 'Strawberry', 'petCount': 1, 'enrolledAtUVA': False}, 'Gheyret Tohti': {'relation': 'father', 'age': 54, 'gender': 'M', 'birthday': '1967/02/20', 'favIceCream': 'Vanilla', 'petCount': 1, 'enrolledAtUVA': False}}}\n"
     ]
    }
   ],
   "source": [
    "print(collection.find_one({'name':'Daniel Tohti'}))"
   ]
  },
  {
   "cell_type": "code",
   "execution_count": null,
   "metadata": {},
   "outputs": [],
   "source": []
  }
 ],
 "metadata": {
  "kernelspec": {
   "display_name": "Python 3",
   "language": "python",
   "name": "python3"
  },
  "language_info": {
   "codemirror_mode": {
    "name": "ipython",
    "version": 3
   },
   "file_extension": ".py",
   "mimetype": "text/x-python",
   "name": "python",
   "nbconvert_exporter": "python",
   "pygments_lexer": "ipython3",
   "version": "3.7.4"
  }
 },
 "nbformat": 4,
 "nbformat_minor": 4
}
