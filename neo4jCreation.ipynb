{
 "cells": [
  {
   "cell_type": "markdown",
   "metadata": {},
   "source": [
    "## Neo4j Database Creation"
   ]
  },
  {
   "cell_type": "code",
   "execution_count": 1,
   "metadata": {},
   "outputs": [
    {
     "name": "stdout",
     "output_type": "stream",
     "text": [
      "Requirement already satisfied: py2neo in /Users/danieltohti/opt/anaconda3/lib/python3.8/site-packages (2021.1.3)\n",
      "Requirement already satisfied: pygments>=2.0.0 in /Users/danieltohti/opt/anaconda3/lib/python3.8/site-packages (from py2neo) (2.9.0)\n",
      "Requirement already satisfied: packaging in /Users/danieltohti/opt/anaconda3/lib/python3.8/site-packages (from py2neo) (20.9)\n",
      "Requirement already satisfied: certifi in /Users/danieltohti/opt/anaconda3/lib/python3.8/site-packages (from py2neo) (2020.12.5)\n",
      "Requirement already satisfied: english in /Users/danieltohti/opt/anaconda3/lib/python3.8/site-packages (from py2neo) (2020.7.0)\n",
      "Requirement already satisfied: monotonic in /Users/danieltohti/opt/anaconda3/lib/python3.8/site-packages (from py2neo) (1.6)\n",
      "Requirement already satisfied: cryptography in /Users/danieltohti/opt/anaconda3/lib/python3.8/site-packages (from py2neo) (3.4.7)\n",
      "Requirement already satisfied: six>=1.15.0 in /Users/danieltohti/opt/anaconda3/lib/python3.8/site-packages (from py2neo) (1.15.0)\n",
      "Requirement already satisfied: urllib3 in /Users/danieltohti/opt/anaconda3/lib/python3.8/site-packages (from py2neo) (1.26.4)\n",
      "Requirement already satisfied: docker in /Users/danieltohti/opt/anaconda3/lib/python3.8/site-packages (from py2neo) (5.0.0)\n",
      "Requirement already satisfied: neotime~=1.7.4 in /Users/danieltohti/opt/anaconda3/lib/python3.8/site-packages (from py2neo) (1.7.4)\n",
      "Requirement already satisfied: pansi>=2020.7.3 in /Users/danieltohti/opt/anaconda3/lib/python3.8/site-packages (from py2neo) (2020.7.3)\n",
      "Requirement already satisfied: prompt-toolkit>=2.0.7 in /Users/danieltohti/opt/anaconda3/lib/python3.8/site-packages (from py2neo) (3.0.17)\n",
      "Requirement already satisfied: pytz in /Users/danieltohti/opt/anaconda3/lib/python3.8/site-packages (from py2neo) (2021.1)\n",
      "Requirement already satisfied: wcwidth in /Users/danieltohti/opt/anaconda3/lib/python3.8/site-packages (from prompt-toolkit>=2.0.7->py2neo) (0.2.5)\n",
      "Requirement already satisfied: cffi>=1.12 in /Users/danieltohti/opt/anaconda3/lib/python3.8/site-packages (from cryptography->py2neo) (1.14.5)\n",
      "Requirement already satisfied: pycparser in /Users/danieltohti/opt/anaconda3/lib/python3.8/site-packages (from cffi>=1.12->cryptography->py2neo) (2.20)\n",
      "Requirement already satisfied: websocket-client>=0.32.0 in /Users/danieltohti/opt/anaconda3/lib/python3.8/site-packages (from docker->py2neo) (1.0.1)\n",
      "Requirement already satisfied: requests!=2.18.0,>=2.14.2 in /Users/danieltohti/opt/anaconda3/lib/python3.8/site-packages (from docker->py2neo) (2.25.1)\n",
      "Requirement already satisfied: idna<3,>=2.5 in /Users/danieltohti/opt/anaconda3/lib/python3.8/site-packages (from requests!=2.18.0,>=2.14.2->docker->py2neo) (2.10)\n",
      "Requirement already satisfied: chardet<5,>=3.0.2 in /Users/danieltohti/opt/anaconda3/lib/python3.8/site-packages (from requests!=2.18.0,>=2.14.2->docker->py2neo) (4.0.0)\n",
      "Requirement already satisfied: pyparsing>=2.0.2 in /Users/danieltohti/opt/anaconda3/lib/python3.8/site-packages (from packaging->py2neo) (2.4.7)\n"
     ]
    }
   ],
   "source": [
    "!pip install py2neo"
   ]
  },
  {
   "cell_type": "code",
   "execution_count": 2,
   "metadata": {},
   "outputs": [],
   "source": [
    "import py2neo\n",
    "import numpy as np"
   ]
  },
  {
   "cell_type": "code",
   "execution_count": 3,
   "metadata": {},
   "outputs": [],
   "source": [
    "from py2neo import Graph\n",
    "from py2neo import Node\n",
    "from py2neo import Relationship"
   ]
  },
  {
   "cell_type": "code",
   "execution_count": 4,
   "metadata": {},
   "outputs": [],
   "source": [
    "graph = Graph(\"bolt://localhost:7687\", auth=(\"neo4j\", \"launch\"))"
   ]
  },
  {
   "cell_type": "code",
   "execution_count": 5,
   "metadata": {},
   "outputs": [],
   "source": [
    "import pandas as pd"
   ]
  },
  {
   "cell_type": "code",
   "execution_count": 6,
   "metadata": {},
   "outputs": [],
   "source": [
    "courses = pd.read_csv('courses.csv', encoding = \"ISO-8859-1\", engine='python') \n",
    "fam_members = pd.read_csv('familyMembers.csv', encoding = \"ISO-8859-1\", engine='python') \n",
    "group_members = pd.read_csv('groupMembers.csv', encoding = \"ISO-8859-1\", engine='python') \n",
    "pets = pd.read_csv('pets.csv', encoding = \"ISO-8859-1\", engine='python') "
   ]
  },
  {
   "cell_type": "code",
   "execution_count": 7,
   "metadata": {},
   "outputs": [
    {
     "data": {
      "text/plain": [
       "Index(['id', 'name', 'birthday', 'birthCity', 'hometown', 'age',\n",
       "       'siblingCount', 'sibling1', 'sibling2', 'sibling3', 'petCount', 'pet1',\n",
       "       'pet2', 'course1', 'course2', 'course3', 'course4', 'course5',\n",
       "       'course6', 'course7', 'major', 'favIceCream', 'inState'],\n",
       "      dtype='object')"
      ]
     },
     "execution_count": 7,
     "metadata": {},
     "output_type": "execute_result"
    }
   ],
   "source": [
    "group_members.columns"
   ]
  },
  {
   "cell_type": "code",
   "execution_count": 8,
   "metadata": {},
   "outputs": [
    {
     "data": {
      "text/html": [
       "<div>\n",
       "<style scoped>\n",
       "    .dataframe tbody tr th:only-of-type {\n",
       "        vertical-align: middle;\n",
       "    }\n",
       "\n",
       "    .dataframe tbody tr th {\n",
       "        vertical-align: top;\n",
       "    }\n",
       "\n",
       "    .dataframe thead th {\n",
       "        text-align: right;\n",
       "    }\n",
       "</style>\n",
       "<table border=\"1\" class=\"dataframe\">\n",
       "  <thead>\n",
       "    <tr style=\"text-align: right;\">\n",
       "      <th></th>\n",
       "      <th>id</th>\n",
       "      <th>name</th>\n",
       "      <th>species</th>\n",
       "      <th>breed</th>\n",
       "      <th>gender</th>\n",
       "      <th>age</th>\n",
       "      <th>ownerGroup</th>\n",
       "      <th>color</th>\n",
       "    </tr>\n",
       "  </thead>\n",
       "  <tbody>\n",
       "    <tr>\n",
       "      <th>0</th>\n",
       "      <td>1</td>\n",
       "      <td>King Louie</td>\n",
       "      <td>Dog</td>\n",
       "      <td>Unknown</td>\n",
       "      <td>M</td>\n",
       "      <td>5.00</td>\n",
       "      <td>1</td>\n",
       "      <td>white</td>\n",
       "    </tr>\n",
       "    <tr>\n",
       "      <th>1</th>\n",
       "      <td>2</td>\n",
       "      <td>Taro</td>\n",
       "      <td>Dog</td>\n",
       "      <td>Border Collie mix</td>\n",
       "      <td>M</td>\n",
       "      <td>0.58</td>\n",
       "      <td>3</td>\n",
       "      <td>Brown</td>\n",
       "    </tr>\n",
       "    <tr>\n",
       "      <th>2</th>\n",
       "      <td>3</td>\n",
       "      <td>Blacky</td>\n",
       "      <td>Cat</td>\n",
       "      <td>NaN</td>\n",
       "      <td>M</td>\n",
       "      <td>13.00</td>\n",
       "      <td>4</td>\n",
       "      <td>Black</td>\n",
       "    </tr>\n",
       "    <tr>\n",
       "      <th>3</th>\n",
       "      <td>4</td>\n",
       "      <td>Jacky</td>\n",
       "      <td>Cat</td>\n",
       "      <td>NaN</td>\n",
       "      <td>M</td>\n",
       "      <td>13.00</td>\n",
       "      <td>4</td>\n",
       "      <td>Brown</td>\n",
       "    </tr>\n",
       "    <tr>\n",
       "      <th>4</th>\n",
       "      <td>5</td>\n",
       "      <td>Leo</td>\n",
       "      <td>Dog</td>\n",
       "      <td>German Shepherd</td>\n",
       "      <td>M</td>\n",
       "      <td>2.80</td>\n",
       "      <td>2</td>\n",
       "      <td>Black</td>\n",
       "    </tr>\n",
       "  </tbody>\n",
       "</table>\n",
       "</div>"
      ],
      "text/plain": [
       "   id         name species              breed gender    age  ownerGroup  \\\n",
       "0    1  King Louie     Dog            Unknown      M   5.00           1   \n",
       "1    2        Taro     Dog  Border Collie mix      M   0.58           3   \n",
       "2    3      Blacky     Cat                NaN      M  13.00           4   \n",
       "3    4       Jacky     Cat                NaN      M  13.00           4   \n",
       "4    5         Leo     Dog    German Shepherd      M   2.80           2   \n",
       "\n",
       "    color  \n",
       "0  white   \n",
       "1   Brown  \n",
       "2   Black  \n",
       "3   Brown  \n",
       "4   Black  "
      ]
     },
     "execution_count": 8,
     "metadata": {},
     "output_type": "execute_result"
    }
   ],
   "source": [
    "pets"
   ]
  },
  {
   "cell_type": "code",
   "execution_count": 9,
   "metadata": {},
   "outputs": [],
   "source": [
    "# Group Member Node Creation\n",
    "for i in range(len(group_members)):\n",
    "    row = group_members.iloc[i] \n",
    "    person = Node(\"Person\", name = row['name'], birthday=row['birthday'], birthCity = row['birthCity'], hometown = row['hometown'], age = int(row['age']), siblingCount = int(row['siblingCount']), major = row['major'], inState = int(row['inState']))\n",
    "    graph.create(person)\n",
    "\n",
    "# Pet Node Creation\n",
    "for i in range(len(pets)):\n",
    "    row = pets.iloc[i] \n",
    "    pet = Node(\"Pet\", name = row['name'], species=row['species'], breed = row['breed'], gender = row['gender'], age = int(row['age']), color = row['color'])\n",
    "    graph.create(pet)\n",
    "    \n",
    "# Fam Members Node Creation\n",
    "for i in range(len(fam_members)):\n",
    "    row = fam_members.iloc[i] \n",
    "    familyMember = Node(\"familyMember\", name = row['name'], age= int(row['age']), gender = row['gender'], birthday = row['birthday'], petCount = int(row['petCount']), enrolledAtUVA = bool(row['enrolledAtUVA']))\n",
    "    graph.create(familyMember)\n",
    "\n",
    "# Courses Node Creation\n",
    "for i in range(len(courses)):\n",
    "    row = courses.iloc[i] \n",
    "    course = Node(\"Course\", courseMnemonic = row['course mnemonic'], courseNumber= int(row['course number']), department = row['department'], classTitle = row['class title'], professor = row['professor'], meetingDays = (row['meeting day(s)']), classType = row['type'], classCapacity = int(row['class capacity']), courseDescription = row['course description'])\n",
    "    graph.create(course)\n",
    "\n",
    "\n",
    "                  "
   ]
  },
  {
   "cell_type": "code",
   "execution_count": 10,
   "metadata": {},
   "outputs": [],
   "source": [
    "from py2neo import Graph, NodeMatcher\n",
    "matcher = NodeMatcher(graph)"
   ]
  },
  {
   "cell_type": "code",
   "execution_count": 11,
   "metadata": {},
   "outputs": [
    {
     "data": {
      "text/plain": [
       "Index(['id ', 'relation', 'name', 'age', 'gender', 'birthday', 'favIceCream',\n",
       "       'petCount', 'pet1Name', 'pet2Name', 'enrolledAtUVA', 'courses',\n",
       "       'groupMemberRelative'],\n",
       "      dtype='object')"
      ]
     },
     "execution_count": 11,
     "metadata": {},
     "output_type": "execute_result"
    }
   ],
   "source": [
    "fam_members.columns"
   ]
  },
  {
   "cell_type": "code",
   "execution_count": 12,
   "metadata": {},
   "outputs": [],
   "source": [
    "Owns = Relationship.type(\"OWNS\")\n",
    "for i in range(len(group_members)):\n",
    "    if not pd.isna(group_members['pet1'][i]):\n",
    "        matchone = matcher.match(\"Person\").where(\"_.name = '\" + str(group_members.name[i]) + \"'\").first()\n",
    "        thisPet = pets.loc[pets['id '] == group_members.pet1[i]].reset_index()\n",
    "        matchtwo = matcher.match(\"Pet\").where(\"_.name = '\" + str(thisPet.name[0]) + \"'\").first()\n",
    "        graph.create(Owns(matchone, matchtwo))"
   ]
  },
  {
   "cell_type": "code",
   "execution_count": 13,
   "metadata": {},
   "outputs": [],
   "source": [
    "for i in range(len(group_members)):\n",
    "    if not pd.isna(group_members['pet2'][i]):\n",
    "        matchone = matcher.match(\"Person\").where(\"_.name = '\" + str(group_members.name[i]) + \"'\").first()\n",
    "        thisPet = pets.loc[pets['id '] == group_members.pet2[i]].reset_index()\n",
    "        matchtwo = matcher.match(\"Pet\").where(\"_.name = '\" + str(thisPet.name[0]) + \"'\").first()\n",
    "        graph.create(Owns(matchone, matchtwo))"
   ]
  },
  {
   "cell_type": "code",
   "execution_count": 14,
   "metadata": {},
   "outputs": [
    {
     "data": {
      "text/plain": [
       "Index(['id ', 'relation', 'name', 'age', 'gender', 'birthday', 'favIceCream',\n",
       "       'petCount', 'pet1Name', 'pet2Name', 'enrolledAtUVA', 'courses',\n",
       "       'groupMemberRelative'],\n",
       "      dtype='object')"
      ]
     },
     "execution_count": 14,
     "metadata": {},
     "output_type": "execute_result"
    }
   ],
   "source": [
    "fam_members.columns"
   ]
  },
  {
   "cell_type": "code",
   "execution_count": 24,
   "metadata": {},
   "outputs": [],
   "source": [
    "IsRelatedTo = Relationship.type(\"IS_RELATED_TO\")\n",
    "for i in range(len(fam_members)):\n",
    "    matchone = matcher.match(\"familyMember\").where(\"_.name= '\" + str(fam_members.name[i]) + \"'\").first()\n",
    "    relative = group_members.loc[group_members['id'] == fam_members.groupMemberRelative[i]].reset_index()\n",
    "    matchtwo = matcher.match(\"Person\").where(\"_.name = '\" + str(relative.name[0]) + \"'\").first()\n",
    "    graph.create(IsRelatedTo(matchone, matchtwo))"
   ]
  },
  {
   "cell_type": "code",
   "execution_count": 16,
   "metadata": {},
   "outputs": [
    {
     "data": {
      "text/plain": [
       "Index(['id', 'course mnemonic', 'course number', 'department', 'class title',\n",
       "       'professor', 'meeting day(s)', 'type', 'class capacity',\n",
       "       'course description'],\n",
       "      dtype='object')"
      ]
     },
     "execution_count": 16,
     "metadata": {},
     "output_type": "execute_result"
    }
   ],
   "source": [
    "courses.columns"
   ]
  },
  {
   "cell_type": "code",
   "execution_count": 17,
   "metadata": {},
   "outputs": [
    {
     "data": {
      "text/html": [
       "<div>\n",
       "<style scoped>\n",
       "    .dataframe tbody tr th:only-of-type {\n",
       "        vertical-align: middle;\n",
       "    }\n",
       "\n",
       "    .dataframe tbody tr th {\n",
       "        vertical-align: top;\n",
       "    }\n",
       "\n",
       "    .dataframe thead th {\n",
       "        text-align: right;\n",
       "    }\n",
       "</style>\n",
       "<table border=\"1\" class=\"dataframe\">\n",
       "  <thead>\n",
       "    <tr style=\"text-align: right;\">\n",
       "      <th></th>\n",
       "      <th>id</th>\n",
       "      <th>name</th>\n",
       "      <th>birthday</th>\n",
       "      <th>birthCity</th>\n",
       "      <th>hometown</th>\n",
       "      <th>age</th>\n",
       "      <th>siblingCount</th>\n",
       "      <th>sibling1</th>\n",
       "      <th>sibling2</th>\n",
       "      <th>sibling3</th>\n",
       "      <th>...</th>\n",
       "      <th>course1</th>\n",
       "      <th>course2</th>\n",
       "      <th>course3</th>\n",
       "      <th>course4</th>\n",
       "      <th>course5</th>\n",
       "      <th>course6</th>\n",
       "      <th>course7</th>\n",
       "      <th>major</th>\n",
       "      <th>favIceCream</th>\n",
       "      <th>inState</th>\n",
       "    </tr>\n",
       "  </thead>\n",
       "  <tbody>\n",
       "    <tr>\n",
       "      <th>0</th>\n",
       "      <td>1</td>\n",
       "      <td>Anna Grace Calhoun</td>\n",
       "      <td>2001/06/11</td>\n",
       "      <td>Boston, MA</td>\n",
       "      <td>Charlottesville, VA</td>\n",
       "      <td>19</td>\n",
       "      <td>3</td>\n",
       "      <td>1.0</td>\n",
       "      <td>2.0</td>\n",
       "      <td>3.0</td>\n",
       "      <td>...</td>\n",
       "      <td>1</td>\n",
       "      <td>3</td>\n",
       "      <td>5.0</td>\n",
       "      <td>8.0</td>\n",
       "      <td>10.0</td>\n",
       "      <td>14.0</td>\n",
       "      <td>15.0</td>\n",
       "      <td>Computer Science, Public Policy and Leadership</td>\n",
       "      <td>Chocolate</td>\n",
       "      <td>1</td>\n",
       "    </tr>\n",
       "    <tr>\n",
       "      <th>1</th>\n",
       "      <td>2</td>\n",
       "      <td>Daniel Tohti</td>\n",
       "      <td>2001/12/28</td>\n",
       "      <td>Gainesville, FL</td>\n",
       "      <td>Fairfax, VA</td>\n",
       "      <td>19</td>\n",
       "      <td>2</td>\n",
       "      <td>6.0</td>\n",
       "      <td>7.0</td>\n",
       "      <td>NaN</td>\n",
       "      <td>...</td>\n",
       "      <td>0</td>\n",
       "      <td>2</td>\n",
       "      <td>12.0</td>\n",
       "      <td>4.0</td>\n",
       "      <td>6.0</td>\n",
       "      <td>7.0</td>\n",
       "      <td>9.0</td>\n",
       "      <td>Aerospace Engineering</td>\n",
       "      <td>Mint Chocolate Chip</td>\n",
       "      <td>1</td>\n",
       "    </tr>\n",
       "    <tr>\n",
       "      <th>2</th>\n",
       "      <td>3</td>\n",
       "      <td>Dare Nguyen</td>\n",
       "      <td>1996/09/03</td>\n",
       "      <td>Virginia Beach, VA</td>\n",
       "      <td>Virginia Beach, VA</td>\n",
       "      <td>24</td>\n",
       "      <td>3</td>\n",
       "      <td>13.0</td>\n",
       "      <td>14.0</td>\n",
       "      <td>17.0</td>\n",
       "      <td>...</td>\n",
       "      <td>11</td>\n",
       "      <td>16</td>\n",
       "      <td>13.0</td>\n",
       "      <td>17.0</td>\n",
       "      <td>NaN</td>\n",
       "      <td>NaN</td>\n",
       "      <td>NaN</td>\n",
       "      <td>Psychology</td>\n",
       "      <td>Cookies and Cream</td>\n",
       "      <td>1</td>\n",
       "    </tr>\n",
       "    <tr>\n",
       "      <th>3</th>\n",
       "      <td>4</td>\n",
       "      <td>David Siamon</td>\n",
       "      <td>2014/05/30</td>\n",
       "      <td>Reston, VA</td>\n",
       "      <td>Fairfax, VA</td>\n",
       "      <td>7</td>\n",
       "      <td>1</td>\n",
       "      <td>10.0</td>\n",
       "      <td>NaN</td>\n",
       "      <td>NaN</td>\n",
       "      <td>...</td>\n",
       "      <td>18</td>\n",
       "      <td>19</td>\n",
       "      <td>20.0</td>\n",
       "      <td>21.0</td>\n",
       "      <td>22.0</td>\n",
       "      <td>NaN</td>\n",
       "      <td>NaN</td>\n",
       "      <td>Mathematics, Computer Science</td>\n",
       "      <td>Melted</td>\n",
       "      <td>1</td>\n",
       "    </tr>\n",
       "    <tr>\n",
       "      <th>4</th>\n",
       "      <td>5</td>\n",
       "      <td>Danny Devito</td>\n",
       "      <td>1944/11/17</td>\n",
       "      <td>Neptune Township, NJ</td>\n",
       "      <td>Neptune Township, NJ</td>\n",
       "      <td>76</td>\n",
       "      <td>0</td>\n",
       "      <td>NaN</td>\n",
       "      <td>NaN</td>\n",
       "      <td>NaN</td>\n",
       "      <td>...</td>\n",
       "      <td>14</td>\n",
       "      <td>23</td>\n",
       "      <td>NaN</td>\n",
       "      <td>NaN</td>\n",
       "      <td>NaN</td>\n",
       "      <td>NaN</td>\n",
       "      <td>NaN</td>\n",
       "      <td>Acting</td>\n",
       "      <td>Chocolate</td>\n",
       "      <td>0</td>\n",
       "    </tr>\n",
       "  </tbody>\n",
       "</table>\n",
       "<p>5 rows × 23 columns</p>\n",
       "</div>"
      ],
      "text/plain": [
       "   id                name    birthday             birthCity  \\\n",
       "0   1  Anna Grace Calhoun  2001/06/11            Boston, MA   \n",
       "1   2        Daniel Tohti  2001/12/28       Gainesville, FL   \n",
       "2   3         Dare Nguyen  1996/09/03    Virginia Beach, VA   \n",
       "3   4        David Siamon  2014/05/30            Reston, VA   \n",
       "4   5        Danny Devito  1944/11/17  Neptune Township, NJ   \n",
       "\n",
       "               hometown  age  siblingCount  sibling1  sibling2  sibling3  ...  \\\n",
       "0   Charlottesville, VA   19             3       1.0       2.0       3.0  ...   \n",
       "1           Fairfax, VA   19             2       6.0       7.0       NaN  ...   \n",
       "2    Virginia Beach, VA   24             3      13.0      14.0      17.0  ...   \n",
       "3           Fairfax, VA    7             1      10.0       NaN       NaN  ...   \n",
       "4  Neptune Township, NJ   76             0       NaN       NaN       NaN  ...   \n",
       "\n",
       "   course1  course2  course3  course4  course5  course6  course7  \\\n",
       "0        1        3      5.0      8.0     10.0     14.0     15.0   \n",
       "1        0        2     12.0      4.0      6.0      7.0      9.0   \n",
       "2       11       16     13.0     17.0      NaN      NaN      NaN   \n",
       "3       18       19     20.0     21.0     22.0      NaN      NaN   \n",
       "4       14       23      NaN      NaN      NaN      NaN      NaN   \n",
       "\n",
       "                                            major          favIceCream  \\\n",
       "0  Computer Science, Public Policy and Leadership            Chocolate   \n",
       "1                           Aerospace Engineering  Mint Chocolate Chip   \n",
       "2                                      Psychology    Cookies and Cream   \n",
       "3                   Mathematics, Computer Science               Melted   \n",
       "4                                          Acting            Chocolate   \n",
       "\n",
       "   inState  \n",
       "0        1  \n",
       "1        1  \n",
       "2        1  \n",
       "3        1  \n",
       "4        0  \n",
       "\n",
       "[5 rows x 23 columns]"
      ]
     },
     "execution_count": 17,
     "metadata": {},
     "output_type": "execute_result"
    }
   ],
   "source": [
    "group_members.head()"
   ]
  },
  {
   "cell_type": "code",
   "execution_count": 32,
   "metadata": {},
   "outputs": [],
   "source": [
    "IsEnrolledIn = Relationship.type(\"IS_ENROLLED_IN\")\n",
    "#course1\n",
    "for i in range(len(group_members)):\n",
    "    course = group_members.loc[i,'course1']\n",
    "    if(not pd.isna(course)):\n",
    "        courseOb = courses.loc[course]\n",
    "        matchone = matcher.match(\"Course\").where(\"_.classTitle = '\" + str(courseOb['class title']) + \"'\").first()\n",
    "        # matching courses to group members\n",
    "        matchtwo = matcher.match(\"Person\").where(\"_.name = '\" + str(group_members.loc[i,'name']) + \"'\").first()\n",
    "        graph.create(IsEnrolledIn(matchtwo, matchone))\n",
    "#course2\n",
    "for i in range(len(group_members)):\n",
    "    course = group_members.loc[i,'course2']\n",
    "    if(not pd.isna(course)):\n",
    "        courseOb = courses.loc[course]\n",
    "        matchone = matcher.match(\"Course\").where(\"_.classTitle = '\" + str(courseOb['class title']) + \"'\").first()\n",
    "        # matching courses to group members\n",
    "        matchtwo = matcher.match(\"Person\").where(\"_.name = '\" + str(group_members.loc[i,'name']) + \"'\").first()\n",
    "        graph.create(IsEnrolledIn(matchtwo, matchone))\n",
    "#course3\n",
    "for i in range(len(group_members)):\n",
    "    course = group_members.loc[i,'course3']\n",
    "    if(not pd.isna(course)):\n",
    "        courseOb = courses.loc[course]\n",
    "        matchone = matcher.match(\"Course\").where(\"_.classTitle = '\" + str(courseOb['class title']) + \"'\").first()\n",
    "        # matching courses to group members\n",
    "        matchtwo = matcher.match(\"Person\").where(\"_.name = '\" + str(group_members.loc[i,'name']) + \"'\").first()\n",
    "        graph.create(IsEnrolledIn(matchtwo, matchone))\n",
    "#course4\n",
    "for i in range(len(group_members)):\n",
    "    course = group_members.loc[i,'course4']\n",
    "    if(not pd.isna(course)):\n",
    "        courseOb = courses.loc[course]\n",
    "        matchone = matcher.match(\"Course\").where(\"_.classTitle = '\" + str(courseOb['class title']) + \"'\").first()\n",
    "        # matching courses to group members\n",
    "        matchtwo = matcher.match(\"Person\").where(\"_.name = '\" + str(group_members.loc[i,'name']) + \"'\").first()\n",
    "        graph.create(IsEnrolledIn(matchtwo, matchone))\n",
    "#course5\n",
    "for i in range(len(group_members)):\n",
    "    course = group_members.loc[i,'course5']\n",
    "    if(not pd.isna(course)):\n",
    "        courseOb = courses.loc[course]\n",
    "        matchone = matcher.match(\"Course\").where(\"_.classTitle = '\" + str(courseOb['class title']) + \"'\").first()\n",
    "        # matching courses to group members\n",
    "        matchtwo = matcher.match(\"Person\").where(\"_.name = '\" + str(group_members.loc[i,'name']) + \"'\").first()\n",
    "        graph.create(IsEnrolledIn(matchtwo, matchone))\n",
    "#course6\n",
    "for i in range(len(group_members)):\n",
    "    course = group_members.loc[i,'course6']\n",
    "    if(not pd.isna(course)):\n",
    "        courseOb = courses.loc[course]\n",
    "        matchone = matcher.match(\"Course\").where(\"_.classTitle = '\" + str(courseOb['class title']) + \"'\").first()\n",
    "        # matching courses to group members\n",
    "        matchtwo = matcher.match(\"Person\").where(\"_.name = '\" + str(group_members.loc[i,'name']) + \"'\").first()\n",
    "        graph.create(IsEnrolledIn(matchtwo, matchone))\n",
    "#course7\n",
    "for i in range(len(group_members)):\n",
    "    course = group_members.loc[i,'course7']\n",
    "    if(not pd.isna(course)):\n",
    "        courseOb = courses.loc[course]\n",
    "        matchone = matcher.match(\"Course\").where(\"_.classTitle = '\" + str(courseOb['class title']) + \"'\").first()\n",
    "        # matching courses to group members\n",
    "        matchtwo = matcher.match(\"Person\").where(\"_.name = '\" + str(group_members.loc[i,'name']) + \"'\").first()\n",
    "        graph.create(IsEnrolledIn(matchtwo, matchone))"
   ]
  },
  {
   "cell_type": "code",
   "execution_count": 19,
   "metadata": {},
   "outputs": [
    {
     "data": {
      "text/plain": [
       "1    5\n",
       "3    5\n",
       "2    4\n",
       "4    3\n",
       "5    3\n",
       "Name: groupMemberRelative, dtype: int64"
      ]
     },
     "execution_count": 19,
     "metadata": {},
     "output_type": "execute_result"
    }
   ],
   "source": [
    "fam_members.groupMemberRelative.value_counts()"
   ]
  },
  {
   "cell_type": "code",
   "execution_count": 20,
   "metadata": {},
   "outputs": [],
   "source": [
    "#graph.run(\"match (n) detach delete n\")"
   ]
  },
  {
   "cell_type": "code",
   "execution_count": null,
   "metadata": {},
   "outputs": [],
   "source": []
  },
  {
   "cell_type": "code",
   "execution_count": null,
   "metadata": {},
   "outputs": [],
   "source": []
  }
 ],
 "metadata": {
  "kernelspec": {
   "display_name": "Python 3",
   "language": "python",
   "name": "python3"
  },
  "language_info": {
   "codemirror_mode": {
    "name": "ipython",
    "version": 3
   },
   "file_extension": ".py",
   "mimetype": "text/x-python",
   "name": "python",
   "nbconvert_exporter": "python",
   "pygments_lexer": "ipython3",
   "version": "3.8.10"
  }
 },
 "nbformat": 4,
 "nbformat_minor": 4
}
