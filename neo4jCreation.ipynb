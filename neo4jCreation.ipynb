{
 "cells": [
  {
   "cell_type": "markdown",
   "metadata": {},
   "source": [
    "## Neo4j Database Creation"
   ]
  },
  {
   "cell_type": "code",
   "execution_count": 2,
   "metadata": {},
   "outputs": [
    {
     "name": "stdout",
     "output_type": "stream",
     "text": [
      "Collecting py2neo\n",
      "  Using cached https://files.pythonhosted.org/packages/e3/41/5ec661b78a28f471b5e9a0ed4a48c497b04e7d2c8a15ca205a7c7ccecc0c/py2neo-2021.1.3-py2.py3-none-any.whl\n",
      "Requirement already satisfied: pytz in c:\\users\\annag\\anaconda3\\lib\\site-packages (from py2neo) (2019.3)\n",
      "Collecting pansi>=2020.7.3 (from py2neo)\n",
      "  Using cached https://files.pythonhosted.org/packages/0b/15/7972e08b7ec14a8b10d5ff206c644d4478906c909c134123ed7e6bd16724/pansi-2020.7.3-py2.py3-none-any.whl\n",
      "Requirement already satisfied: monotonic in c:\\users\\annag\\anaconda3\\lib\\site-packages (from py2neo) (1.6)\n",
      "Collecting neotime~=1.7.4 (from py2neo)\n",
      "Requirement already satisfied: pygments>=2.0.0 in c:\\users\\annag\\anaconda3\\lib\\site-packages (from py2neo) (2.4.2)\n",
      "Requirement already satisfied: certifi in c:\\users\\annag\\anaconda3\\lib\\site-packages (from py2neo) (2019.9.11)\n",
      "Requirement already satisfied: packaging in c:\\users\\annag\\anaconda3\\lib\\site-packages (from py2neo) (19.2)\n",
      "Requirement already satisfied: prompt-toolkit>=2.0.7; python_version >= \"3.6\" in c:\\users\\annag\\anaconda3\\lib\\site-packages (from py2neo) (2.0.10)\n",
      "Collecting english (from py2neo)\n",
      "  Using cached https://files.pythonhosted.org/packages/05/1d/f1dd2cbd075c049a753815a0d1f29f29be3c09a62fb01a9ba74356bfee08/english-2020.7.0-py2.py3-none-any.whl\n",
      "Collecting six>=1.15.0 (from py2neo)\n",
      "  Using cached https://files.pythonhosted.org/packages/d9/5a/e7c31adbe875f2abbb91bd84cf2dc52d792b5a01506781dbcf25c91daf11/six-1.16.0-py2.py3-none-any.whl\n",
      "Requirement already satisfied: cryptography in c:\\users\\annag\\anaconda3\\lib\\site-packages (from py2neo) (2.7)\n",
      "Collecting docker (from py2neo)\n",
      "  Using cached https://files.pythonhosted.org/packages/b2/5a/f988909dfed18c1ac42ad8d9e611e6c5657e270aa6eb68559985dbb69c13/docker-5.0.0-py2.py3-none-any.whl\n",
      "Requirement already satisfied: urllib3 in c:\\users\\annag\\anaconda3\\lib\\site-packages (from py2neo) (1.24.2)\n",
      "Requirement already satisfied: pyparsing>=2.0.2 in c:\\users\\annag\\anaconda3\\lib\\site-packages (from packaging->py2neo) (2.4.2)\n",
      "Requirement already satisfied: wcwidth in c:\\users\\annag\\anaconda3\\lib\\site-packages (from prompt-toolkit>=2.0.7; python_version >= \"3.6\"->py2neo) (0.1.7)\n",
      "Requirement already satisfied: cffi!=1.11.3,>=1.8 in c:\\users\\annag\\anaconda3\\lib\\site-packages (from cryptography->py2neo) (1.12.3)\n",
      "Requirement already satisfied: asn1crypto>=0.21.0 in c:\\users\\annag\\anaconda3\\lib\\site-packages (from cryptography->py2neo) (1.0.1)\n",
      "Requirement already satisfied: pywin32==227; sys_platform == \"win32\" in c:\\users\\annag\\anaconda3\\lib\\site-packages (from docker->py2neo) (227)\n",
      "Requirement already satisfied: requests!=2.18.0,>=2.14.2 in c:\\users\\annag\\anaconda3\\lib\\site-packages (from docker->py2neo) (2.22.0)\n",
      "Collecting websocket-client>=0.32.0 (from docker->py2neo)\n",
      "  Using cached https://files.pythonhosted.org/packages/85/ee/7aa724dc2dbed9b028f463eada5482770c13b7381a0c79457d12b3b62de2/websocket_client-1.0.1-py2.py3-none-any.whl\n",
      "Requirement already satisfied: pycparser in c:\\users\\annag\\anaconda3\\lib\\site-packages (from cffi!=1.11.3,>=1.8->cryptography->py2neo) (2.19)\n",
      "Requirement already satisfied: idna<2.9,>=2.5 in c:\\users\\annag\\anaconda3\\lib\\site-packages (from requests!=2.18.0,>=2.14.2->docker->py2neo) (2.8)\n",
      "Requirement already satisfied: chardet<3.1.0,>=3.0.2 in c:\\users\\annag\\anaconda3\\lib\\site-packages (from requests!=2.18.0,>=2.14.2->docker->py2neo) (3.0.4)\n",
      "Installing collected packages: six, pansi, neotime, english, websocket-client, docker, py2neo\n",
      "  Found existing installation: six 1.12.0\n",
      "    Uninstalling six-1.12.0:\n",
      "      Successfully uninstalled six-1.12.0\n",
      "Successfully installed docker-5.0.0 english-2020.7.0 neotime-1.7.4 pansi-2020.7.3 py2neo-2021.1.3 six-1.16.0 websocket-client-1.0.1\n"
     ]
    },
    {
     "name": "stderr",
     "output_type": "stream",
     "text": [
      "Error processing line 7 of C:\\Users\\annag\\Anaconda3\\lib\\site-packages\\pywin32.pth:\n",
      "\n",
      "  Traceback (most recent call last):\n",
      "    File \"C:\\Users\\annag\\Anaconda3\\lib\\site.py\", line 168, in addpackage\n",
      "      exec(line)\n",
      "    File \"<string>\", line 1, in <module>\n",
      "  ModuleNotFoundError: No module named 'pywin32_bootstrap'\n",
      "\n",
      "Remainder of file ignored\n",
      "ERROR: conda-repo-cli 1.0.4 requires pathlib, which is not installed.\n",
      "ERROR: astroid 2.3.1 requires typed-ast<1.5,>=1.4.0; implementation_name == \"cpython\" and python_version < \"3.8\", which is not installed.\n",
      "ERROR: astroid 2.3.1 has requirement six==1.12, but you'll have six 1.16.0 which is incompatible.\n"
     ]
    }
   ],
   "source": [
    "!pip install py2neo"
   ]
  },
  {
   "cell_type": "code",
   "execution_count": 3,
   "metadata": {},
   "outputs": [],
   "source": [
    "import py2neo"
   ]
  },
  {
   "cell_type": "code",
   "execution_count": 4,
   "metadata": {},
   "outputs": [],
   "source": [
    "from py2neo import Graph"
   ]
  },
  {
   "cell_type": "code",
   "execution_count": 6,
   "metadata": {},
   "outputs": [],
   "source": [
    "#graph = Graph(\"bolt://localhost:7687\", auth=(\"neo4j\", \"launch\"))"
   ]
  },
  {
   "cell_type": "code",
   "execution_count": null,
   "metadata": {},
   "outputs": [],
   "source": []
  }
 ],
 "metadata": {
  "kernelspec": {
   "display_name": "Python 3",
   "language": "python",
   "name": "python3"
  },
  "language_info": {
   "codemirror_mode": {
    "name": "ipython",
    "version": 3
   },
   "file_extension": ".py",
   "mimetype": "text/x-python",
   "name": "python",
   "nbconvert_exporter": "python",
   "pygments_lexer": "ipython3",
   "version": "3.7.4"
  }
 },
 "nbformat": 4,
 "nbformat_minor": 4
}
