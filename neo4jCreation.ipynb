{
 "cells": [
  {
   "cell_type": "markdown",
   "metadata": {},
   "source": [
    "## Neo4j Database Creation"
   ]
  },
  {
   "cell_type": "code",
   "execution_count": 1,
   "metadata": {},
   "outputs": [
    {
     "name": "stdout",
     "output_type": "stream",
     "text": [
      "Requirement already satisfied: py2neo in /Users/danieltohti/opt/anaconda3/lib/python3.8/site-packages (2021.1.3)\n",
      "Requirement already satisfied: monotonic in /Users/danieltohti/opt/anaconda3/lib/python3.8/site-packages (from py2neo) (1.6)\n",
      "Requirement already satisfied: docker in /Users/danieltohti/opt/anaconda3/lib/python3.8/site-packages (from py2neo) (5.0.0)\n",
      "Requirement already satisfied: pygments>=2.0.0 in /Users/danieltohti/opt/anaconda3/lib/python3.8/site-packages (from py2neo) (2.9.0)\n",
      "Requirement already satisfied: english in /Users/danieltohti/opt/anaconda3/lib/python3.8/site-packages (from py2neo) (2020.7.0)\n",
      "Requirement already satisfied: prompt-toolkit>=2.0.7 in /Users/danieltohti/opt/anaconda3/lib/python3.8/site-packages (from py2neo) (3.0.17)\n",
      "Requirement already satisfied: certifi in /Users/danieltohti/opt/anaconda3/lib/python3.8/site-packages (from py2neo) (2020.12.5)\n",
      "Requirement already satisfied: six>=1.15.0 in /Users/danieltohti/opt/anaconda3/lib/python3.8/site-packages (from py2neo) (1.15.0)\n",
      "Requirement already satisfied: cryptography in /Users/danieltohti/opt/anaconda3/lib/python3.8/site-packages (from py2neo) (3.4.7)\n",
      "Requirement already satisfied: urllib3 in /Users/danieltohti/opt/anaconda3/lib/python3.8/site-packages (from py2neo) (1.26.4)\n",
      "Requirement already satisfied: pansi>=2020.7.3 in /Users/danieltohti/opt/anaconda3/lib/python3.8/site-packages (from py2neo) (2020.7.3)\n",
      "Requirement already satisfied: packaging in /Users/danieltohti/opt/anaconda3/lib/python3.8/site-packages (from py2neo) (20.9)\n",
      "Requirement already satisfied: pytz in /Users/danieltohti/opt/anaconda3/lib/python3.8/site-packages (from py2neo) (2021.1)\n",
      "Requirement already satisfied: neotime~=1.7.4 in /Users/danieltohti/opt/anaconda3/lib/python3.8/site-packages (from py2neo) (1.7.4)\n",
      "Requirement already satisfied: wcwidth in /Users/danieltohti/opt/anaconda3/lib/python3.8/site-packages (from prompt-toolkit>=2.0.7->py2neo) (0.2.5)\n",
      "Requirement already satisfied: cffi>=1.12 in /Users/danieltohti/opt/anaconda3/lib/python3.8/site-packages (from cryptography->py2neo) (1.14.5)\n",
      "Requirement already satisfied: pycparser in /Users/danieltohti/opt/anaconda3/lib/python3.8/site-packages (from cffi>=1.12->cryptography->py2neo) (2.20)\n",
      "Requirement already satisfied: requests!=2.18.0,>=2.14.2 in /Users/danieltohti/opt/anaconda3/lib/python3.8/site-packages (from docker->py2neo) (2.25.1)\n",
      "Requirement already satisfied: websocket-client>=0.32.0 in /Users/danieltohti/opt/anaconda3/lib/python3.8/site-packages (from docker->py2neo) (1.0.1)\n",
      "Requirement already satisfied: idna<3,>=2.5 in /Users/danieltohti/opt/anaconda3/lib/python3.8/site-packages (from requests!=2.18.0,>=2.14.2->docker->py2neo) (2.10)\n",
      "Requirement already satisfied: chardet<5,>=3.0.2 in /Users/danieltohti/opt/anaconda3/lib/python3.8/site-packages (from requests!=2.18.0,>=2.14.2->docker->py2neo) (4.0.0)\n",
      "Requirement already satisfied: pyparsing>=2.0.2 in /Users/danieltohti/opt/anaconda3/lib/python3.8/site-packages (from packaging->py2neo) (2.4.7)\n"
     ]
    }
   ],
   "source": [
    "!pip install py2neo"
   ]
  },
  {
   "cell_type": "code",
   "execution_count": 2,
   "metadata": {},
   "outputs": [],
   "source": [
    "import py2neo\n",
    "import numpy as np"
   ]
  },
  {
   "cell_type": "code",
   "execution_count": 3,
   "metadata": {},
   "outputs": [],
   "source": [
    "from py2neo import Graph\n",
    "from py2neo import Node\n",
    "from py2neo import Relationship"
   ]
  },
  {
   "cell_type": "code",
   "execution_count": 4,
   "metadata": {},
   "outputs": [],
   "source": [
    "graph = Graph(\"bolt://localhost:7687\", auth=(\"neo4j\", \"launch\"))"
   ]
  },
  {
   "cell_type": "code",
   "execution_count": 5,
   "metadata": {},
   "outputs": [],
   "source": [
    "import pandas as pd"
   ]
  },
  {
   "cell_type": "code",
   "execution_count": 6,
   "metadata": {},
   "outputs": [],
   "source": [
    "courses = pd.read_csv('courses.csv', encoding = \"ISO-8859-1\", engine='python') \n",
    "fam_members = pd.read_csv('familyMembers.csv', encoding = \"ISO-8859-1\", engine='python') \n",
    "group_members = pd.read_csv('groupMembers.csv', encoding = \"ISO-8859-1\", engine='python') \n",
    "pets = pd.read_csv('pets.csv', encoding = \"ISO-8859-1\", engine='python') "
   ]
  },
  {
   "cell_type": "code",
   "execution_count": 7,
   "metadata": {},
   "outputs": [
    {
     "data": {
      "text/plain": [
       "Index(['id', 'name', 'birthday', 'birthCity', 'hometown', 'age',\n",
       "       'siblingCount', 'sibling1', 'sibling2', 'sibling3', 'petCount', 'pet1',\n",
       "       'pet2', 'course1', 'course2', 'course3', 'course4', 'course5',\n",
       "       'course6', 'course7', 'major', 'favIceCream', 'inState'],\n",
       "      dtype='object')"
      ]
     },
     "execution_count": 7,
     "metadata": {},
     "output_type": "execute_result"
    }
   ],
   "source": [
    "group_members.columns"
   ]
  },
  {
   "cell_type": "code",
   "execution_count": 8,
   "metadata": {},
   "outputs": [
    {
     "data": {
      "text/html": [
       "<div>\n",
       "<style scoped>\n",
       "    .dataframe tbody tr th:only-of-type {\n",
       "        vertical-align: middle;\n",
       "    }\n",
       "\n",
       "    .dataframe tbody tr th {\n",
       "        vertical-align: top;\n",
       "    }\n",
       "\n",
       "    .dataframe thead th {\n",
       "        text-align: right;\n",
       "    }\n",
       "</style>\n",
       "<table border=\"1\" class=\"dataframe\">\n",
       "  <thead>\n",
       "    <tr style=\"text-align: right;\">\n",
       "      <th></th>\n",
       "      <th>id</th>\n",
       "      <th>name</th>\n",
       "      <th>species</th>\n",
       "      <th>breed</th>\n",
       "      <th>gender</th>\n",
       "      <th>age</th>\n",
       "      <th>ownerGroup</th>\n",
       "      <th>color</th>\n",
       "      <th>since</th>\n",
       "    </tr>\n",
       "  </thead>\n",
       "  <tbody>\n",
       "    <tr>\n",
       "      <th>0</th>\n",
       "      <td>1</td>\n",
       "      <td>King Louie</td>\n",
       "      <td>Dog</td>\n",
       "      <td>Unknown</td>\n",
       "      <td>M</td>\n",
       "      <td>5.00</td>\n",
       "      <td>1</td>\n",
       "      <td>white</td>\n",
       "      <td>2016</td>\n",
       "    </tr>\n",
       "    <tr>\n",
       "      <th>1</th>\n",
       "      <td>2</td>\n",
       "      <td>Taro</td>\n",
       "      <td>Dog</td>\n",
       "      <td>Border Collie mix</td>\n",
       "      <td>M</td>\n",
       "      <td>0.58</td>\n",
       "      <td>3</td>\n",
       "      <td>Brown</td>\n",
       "      <td>2020</td>\n",
       "    </tr>\n",
       "    <tr>\n",
       "      <th>2</th>\n",
       "      <td>3</td>\n",
       "      <td>Blacky</td>\n",
       "      <td>Cat</td>\n",
       "      <td>NaN</td>\n",
       "      <td>M</td>\n",
       "      <td>13.00</td>\n",
       "      <td>4</td>\n",
       "      <td>Black</td>\n",
       "      <td>2008</td>\n",
       "    </tr>\n",
       "    <tr>\n",
       "      <th>3</th>\n",
       "      <td>4</td>\n",
       "      <td>Jacky</td>\n",
       "      <td>Cat</td>\n",
       "      <td>NaN</td>\n",
       "      <td>M</td>\n",
       "      <td>13.00</td>\n",
       "      <td>4</td>\n",
       "      <td>Brown</td>\n",
       "      <td>2008</td>\n",
       "    </tr>\n",
       "    <tr>\n",
       "      <th>4</th>\n",
       "      <td>5</td>\n",
       "      <td>Leo</td>\n",
       "      <td>Dog</td>\n",
       "      <td>German Shepherd</td>\n",
       "      <td>M</td>\n",
       "      <td>2.80</td>\n",
       "      <td>2</td>\n",
       "      <td>Black</td>\n",
       "      <td>2019</td>\n",
       "    </tr>\n",
       "  </tbody>\n",
       "</table>\n",
       "</div>"
      ],
      "text/plain": [
       "   id         name species              breed gender    age  ownerGroup  \\\n",
       "0    1  King Louie     Dog            Unknown      M   5.00           1   \n",
       "1    2        Taro     Dog  Border Collie mix      M   0.58           3   \n",
       "2    3      Blacky     Cat                NaN      M  13.00           4   \n",
       "3    4       Jacky     Cat                NaN      M  13.00           4   \n",
       "4    5         Leo     Dog    German Shepherd      M   2.80           2   \n",
       "\n",
       "    color  since  \n",
       "0  white    2016  \n",
       "1   Brown   2020  \n",
       "2   Black   2008  \n",
       "3   Brown   2008  \n",
       "4   Black   2019  "
      ]
     },
     "execution_count": 8,
     "metadata": {},
     "output_type": "execute_result"
    }
   ],
   "source": [
    "pets['since'] = [2016,2020,2008,2008,2019]\n",
    "pets.head()"
   ]
  },
  {
   "cell_type": "code",
   "execution_count": 9,
   "metadata": {},
   "outputs": [],
   "source": [
    "# Group Member Node Creation\n",
    "for i in range(len(group_members)):\n",
    "    row = group_members.iloc[i] \n",
    "    person = Node(\"Person\", name = row['name'], birthday=row['birthday'], birthCity = row['birthCity'], hometown = row['hometown'], age = int(row['age']), siblingCount = int(row['siblingCount']), major = row['major'], inState = int(row['inState']))\n",
    "    graph.create(person)\n",
    "\n",
    "# Pet Node Creation\n",
    "for i in range(len(pets)):\n",
    "    row = pets.iloc[i] \n",
    "    pet = Node(\"Pet\", name = row['name'], species=row['species'], breed = row['breed'], gender = row['gender'], age = int(row['age']), color = row['color'])\n",
    "    graph.create(pet)\n",
    "    \n",
    "# Fam Members Node Creation\n",
    "for i in range(len(fam_members)):\n",
    "    row = fam_members.iloc[i] \n",
    "    familyMember = Node(\"familyMember\", name = row['name'], age= int(row['age']), gender = row['gender'], birthday = row['birthday'], petCount = int(row['petCount']), enrolledAtUVA = bool(row['enrolledAtUVA']), favIceCream=str(row['favIceCream']))\n",
    "    graph.create(familyMember)\n",
    "\n",
    "# Courses Node Creation\n",
    "for i in range(len(courses)):\n",
    "    row = courses.iloc[i] \n",
    "    course = Node(\"Course\", courseMnemonic = row['course mnemonic'], courseNumber= int(row['course number']), department = row['department'], classTitle = row['class title'], professor = row['professor'], meetingDays = (row['meeting day(s)']), classType = row['type'], classCapacity = int(row['class capacity']), courseDescription = row['course description'])\n",
    "    graph.create(course)\n",
    "\n",
    "\n",
    "                  "
   ]
  },
  {
   "cell_type": "code",
   "execution_count": 10,
   "metadata": {},
   "outputs": [],
   "source": [
    "from py2neo import Graph, NodeMatcher\n",
    "matcher = NodeMatcher(graph)"
   ]
  },
  {
   "cell_type": "code",
   "execution_count": 11,
   "metadata": {},
   "outputs": [
    {
     "data": {
      "text/plain": [
       "Index(['id ', 'relation', 'name', 'age', 'gender', 'birthday', 'favIceCream',\n",
       "       'petCount', 'pet1Name', 'pet2Name', 'enrolledAtUVA', 'courses',\n",
       "       'groupMemberRelative'],\n",
       "      dtype='object')"
      ]
     },
     "execution_count": 11,
     "metadata": {},
     "output_type": "execute_result"
    }
   ],
   "source": [
    "fam_members.columns"
   ]
  },
  {
   "cell_type": "code",
   "execution_count": 12,
   "metadata": {
    "scrolled": true
   },
   "outputs": [
    {
     "name": "stdout",
     "output_type": "stream",
     "text": [
      "(_54:Person {age: 19, birthCity: 'Boston, MA', birthday: '2001/06/11', hometown: 'Charlottesville, VA', inState: 1, major: 'Computer Science, Public Policy and Leadership', name: 'Anna Grace Calhoun', siblingCount: 3}) (_59:Pet {age: 5, breed: 'Unknown', color: 'white ', gender: 'M', name: 'King Louie', species: 'Dog'})\n",
      "(_55:Person {age: 19, birthCity: 'Gainesville, FL', birthday: '2001/12/28', hometown: 'Fairfax, VA', inState: 1, major: 'Aerospace Engineering', name: 'Daniel Tohti', siblingCount: 2}) (_63:Pet {age: 2, breed: 'German Shepherd', color: 'Black', gender: 'M', name: 'Leo', species: 'Dog'})\n",
      "(_56:Person {age: 24, birthCity: 'Virginia Beach, VA', birthday: '1996/09/03', hometown: 'Virginia Beach, VA', inState: 1, major: 'Psychology', name: 'Dare Nguyen', siblingCount: 3}) (_60:Pet {age: 0, breed: 'Border Collie mix', color: 'Brown', gender: 'M', name: 'Taro', species: 'Dog'})\n",
      "(_57:Person {age: 7, birthCity: 'Reston, VA', birthday: '2014/05/30', hometown: 'Fairfax, VA', inState: 1, major: 'Mathematics, Computer Science', name: 'David Siamon', siblingCount: 1}) (_61:Pet {age: 13, breed: nan, color: 'Black', gender: 'M', name: 'Blacky', species: 'Cat'})\n"
     ]
    }
   ],
   "source": [
    "Owns = Relationship.type(\"OWNS\")\n",
    "for i in range(len(group_members)):\n",
    "    if not pd.isna(group_members['pet1'][i]):\n",
    "        matchone = matcher.match(\"Person\").where(\"_.name = '\" + str(group_members.name[i]) + \"'\").first()\n",
    "        thisPet = pets.loc[pets['id '] == group_members.pet1[i]].reset_index()\n",
    "        matchtwo = matcher.match(\"Pet\").where(\"_.name = '\" + str(thisPet.name[0]) + \"'\").first()\n",
    "        sinceDate = pets.loc[pets['id '] == group_members.pet1[i]].reset_index()\n",
    "        relProp = {'since':int(sinceDate.since[0])}\n",
    "        print(matchone, matchtwo)\n",
    "        graph.create(Owns(matchone, matchtwo, **relProp))"
   ]
  },
  {
   "cell_type": "code",
   "execution_count": 13,
   "metadata": {},
   "outputs": [
    {
     "name": "stdout",
     "output_type": "stream",
     "text": [
      "(_57:Person {age: 7, birthCity: 'Reston, VA', birthday: '2014/05/30', hometown: 'Fairfax, VA', inState: 1, major: 'Mathematics, Computer Science', name: 'David Siamon', siblingCount: 1}) (_62:Pet {age: 13, breed: nan, color: 'Brown', gender: 'M', name: 'Jacky', species: 'Cat'})\n"
     ]
    }
   ],
   "source": [
    "for i in range(len(group_members)):\n",
    "    if not pd.isna(group_members['pet2'][i]):\n",
    "        matchone = matcher.match(\"Person\").where(\"_.name = '\" + str(group_members.name[i]) + \"'\").first()\n",
    "        thisPet = pets.loc[pets['id '] == group_members.pet2[i]].reset_index()\n",
    "        matchtwo = matcher.match(\"Pet\").where(\"_.name = '\" + str(thisPet.name[0]) + \"'\").first()\n",
    "        sinceDate = pets.loc[pets['id '] == group_members.pet2[i]].reset_index()\n",
    "        relProp = {'since':int(sinceDate.since[0])}\n",
    "        print(matchone, matchtwo)\n",
    "        graph.create(Owns(matchone, matchtwo, **relProp))"
   ]
  },
  {
   "cell_type": "code",
   "execution_count": 14,
   "metadata": {},
   "outputs": [
    {
     "data": {
      "text/plain": [
       "Index(['id ', 'relation', 'name', 'age', 'gender', 'birthday', 'favIceCream',\n",
       "       'petCount', 'pet1Name', 'pet2Name', 'enrolledAtUVA', 'courses',\n",
       "       'groupMemberRelative'],\n",
       "      dtype='object')"
      ]
     },
     "execution_count": 14,
     "metadata": {},
     "output_type": "execute_result"
    }
   ],
   "source": [
    "fam_members.columns"
   ]
  },
  {
   "cell_type": "code",
   "execution_count": 15,
   "metadata": {},
   "outputs": [],
   "source": [
    "#Figure out the relationship between relative\n",
    "def relationship_check(relation_input):\n",
    "    if((relation_input.strip().lower() == 'sister') | (relation_input.strip().lower() == 'brother')):\n",
    "        return 'sibling'\n",
    "    if((relation_input.strip().lower()=='father') | (relation_input.strip().lower()=='mother')):\n",
    "        return 'parent'\n",
    "    if((relation_input.strip().lower()=='son') | (relation_input.strip().lower()=='daughter')):\n",
    "        return 'child'"
   ]
  },
  {
   "cell_type": "code",
   "execution_count": 16,
   "metadata": {},
   "outputs": [],
   "source": [
    "#Flips relationship for bi-directional\n",
    "def relationship_flip(relation_input):\n",
    "    if(relation_input=='sibling'):\n",
    "        return 'sibling'\n",
    "    if(relation_input=='parent'):\n",
    "        return 'child'\n",
    "    if(relation_input=='child'):\n",
    "        return 'parent'"
   ]
  },
  {
   "cell_type": "code",
   "execution_count": 17,
   "metadata": {
    "scrolled": false
   },
   "outputs": [],
   "source": [
    "IsRelatedTo = Relationship.type(\"IS_RELATED_TO\")\n",
    "for i in range(len(fam_members)):\n",
    "    matchone = matcher.match(\"familyMember\").where(\"_.birthday= '\" + str(fam_members.birthday[i]) + \"'\").first()\n",
    "    relative = group_members.loc[group_members['id'] == fam_members.groupMemberRelative[i]].reset_index()\n",
    "    matchtwo = matcher.match(\"Person\").where(\"_.name = '\" + str(relative.name[0]) + \"'\").first()\n",
    "    relativeType = relationship_check(fam_members.relation[i])\n",
    "    relProp = {'relation':str(relativeType)}\n",
    "    graph.create(IsRelatedTo(matchone, matchtwo,**relProp))\n",
    "    relProp2 = {'relation':str(relationship_flip(relativeType))}\n",
    "    graph.create(IsRelatedTo(matchtwo,matchone,**relProp2))"
   ]
  },
  {
   "cell_type": "code",
   "execution_count": 18,
   "metadata": {},
   "outputs": [
    {
     "data": {
      "text/plain": [
       "Index(['id', 'course mnemonic', 'course number', 'department', 'class title',\n",
       "       'professor', 'meeting day(s)', 'type', 'class capacity',\n",
       "       'course description'],\n",
       "      dtype='object')"
      ]
     },
     "execution_count": 18,
     "metadata": {},
     "output_type": "execute_result"
    }
   ],
   "source": [
    "courses.columns"
   ]
  },
  {
   "cell_type": "code",
   "execution_count": 19,
   "metadata": {
    "scrolled": true
   },
   "outputs": [
    {
     "data": {
      "text/html": [
       "<div>\n",
       "<style scoped>\n",
       "    .dataframe tbody tr th:only-of-type {\n",
       "        vertical-align: middle;\n",
       "    }\n",
       "\n",
       "    .dataframe tbody tr th {\n",
       "        vertical-align: top;\n",
       "    }\n",
       "\n",
       "    .dataframe thead th {\n",
       "        text-align: right;\n",
       "    }\n",
       "</style>\n",
       "<table border=\"1\" class=\"dataframe\">\n",
       "  <thead>\n",
       "    <tr style=\"text-align: right;\">\n",
       "      <th></th>\n",
       "      <th>id</th>\n",
       "      <th>course mnemonic</th>\n",
       "      <th>course number</th>\n",
       "      <th>department</th>\n",
       "      <th>class title</th>\n",
       "      <th>professor</th>\n",
       "      <th>meeting day(s)</th>\n",
       "      <th>type</th>\n",
       "      <th>class capacity</th>\n",
       "      <th>course description</th>\n",
       "    </tr>\n",
       "  </thead>\n",
       "  <tbody>\n",
       "    <tr>\n",
       "      <th>0</th>\n",
       "      <td>0</td>\n",
       "      <td>APMA</td>\n",
       "      <td>3140</td>\n",
       "      <td>Applied Mathematics</td>\n",
       "      <td>Partial Differential Equations</td>\n",
       "      <td>Diana Morris</td>\n",
       "      <td>M,W,F</td>\n",
       "      <td>Lecture</td>\n",
       "      <td>300</td>\n",
       "      <td>Partial differential equations that govern phy...</td>\n",
       "    </tr>\n",
       "    <tr>\n",
       "      <th>1</th>\n",
       "      <td>1</td>\n",
       "      <td>CS</td>\n",
       "      <td>3250</td>\n",
       "      <td>Computer Science</td>\n",
       "      <td>Software Testing</td>\n",
       "      <td>Upsorn Praphamontripong</td>\n",
       "      <td>Tu, Th</td>\n",
       "      <td>Lecture</td>\n",
       "      <td>60</td>\n",
       "      <td>An introduction to testing for assuring softwa...</td>\n",
       "    </tr>\n",
       "    <tr>\n",
       "      <th>2</th>\n",
       "      <td>2</td>\n",
       "      <td>APMA</td>\n",
       "      <td>3501</td>\n",
       "      <td>Applied Mathematics</td>\n",
       "      <td>Spec Topics in APMA</td>\n",
       "      <td>Gianluca Guadagni</td>\n",
       "      <td>M</td>\n",
       "      <td>Lecture</td>\n",
       "      <td>75</td>\n",
       "      <td>Applies mathematical techniques to special pro...</td>\n",
       "    </tr>\n",
       "    <tr>\n",
       "      <th>3</th>\n",
       "      <td>3</td>\n",
       "      <td>LPPP</td>\n",
       "      <td>3200</td>\n",
       "      <td>Leadership and Public Policy</td>\n",
       "      <td>Introduction to Public Policy</td>\n",
       "      <td>NaN</td>\n",
       "      <td>M</td>\n",
       "      <td>Discussion</td>\n",
       "      <td>20</td>\n",
       "      <td>This course will introduce students to both th...</td>\n",
       "    </tr>\n",
       "    <tr>\n",
       "      <th>4</th>\n",
       "      <td>4</td>\n",
       "      <td>MAE</td>\n",
       "      <td>2040</td>\n",
       "      <td>Mechanical &amp; Aerospace Engineering</td>\n",
       "      <td>Computer Aided Design</td>\n",
       "      <td>Shawn Russell</td>\n",
       "      <td>M</td>\n",
       "      <td>Lab</td>\n",
       "      <td>25</td>\n",
       "      <td>Communication through engineering graphics; en...</td>\n",
       "    </tr>\n",
       "  </tbody>\n",
       "</table>\n",
       "</div>"
      ],
      "text/plain": [
       "   id course mnemonic  course number                          department  \\\n",
       "0   0            APMA           3140                 Applied Mathematics   \n",
       "1   1              CS           3250                    Computer Science   \n",
       "2   2            APMA           3501                 Applied Mathematics   \n",
       "3   3            LPPP           3200        Leadership and Public Policy   \n",
       "4   4             MAE           2040  Mechanical & Aerospace Engineering   \n",
       "\n",
       "                      class title                professor meeting day(s)  \\\n",
       "0  Partial Differential Equations             Diana Morris          M,W,F   \n",
       "1                Software Testing  Upsorn Praphamontripong         Tu, Th   \n",
       "2            Spec Topics in APMA         Gianluca Guadagni              M   \n",
       "3   Introduction to Public Policy                      NaN              M   \n",
       "4           Computer Aided Design            Shawn Russell              M   \n",
       "\n",
       "         type  class capacity  \\\n",
       "0     Lecture             300   \n",
       "1     Lecture              60   \n",
       "2     Lecture              75   \n",
       "3  Discussion              20   \n",
       "4         Lab              25   \n",
       "\n",
       "                                  course description  \n",
       "0  Partial differential equations that govern phy...  \n",
       "1  An introduction to testing for assuring softwa...  \n",
       "2  Applies mathematical techniques to special pro...  \n",
       "3  This course will introduce students to both th...  \n",
       "4  Communication through engineering graphics; en...  "
      ]
     },
     "execution_count": 19,
     "metadata": {},
     "output_type": "execute_result"
    }
   ],
   "source": [
    "courses.head()"
   ]
  },
  {
   "cell_type": "code",
   "execution_count": 20,
   "metadata": {},
   "outputs": [],
   "source": [
    "IsEnrolledIn = Relationship.type(\"IS_ENROLLED_IN\")\n",
    "#course1\n",
    "for i in range(len(group_members)):\n",
    "    course = group_members.loc[i,'course1']\n",
    "    if(not pd.isna(course)):\n",
    "        courseOb = courses.loc[course]\n",
    "        courseOb.head()\n",
    "        labels = {'classTitle':str(courseOb['class title']),'professor': str(courseOb['professor'])}\n",
    "        matchone = matcher.match(\"Course\").where(**labels).first()\n",
    "        # matching courses to group members\n",
    "        relProp = {'professor':str(matchone['professor']), 'meetingDays':str(matchone['meetingDays'])}\n",
    "        matchtwo = matcher.match(\"Person\").where(\"_.name = '\" + str(group_members.loc[i,'name']) + \"'\").first()\n",
    "        graph.create(IsEnrolledIn(matchtwo, matchone, **relProp))\n",
    "#course2\n",
    "for i in range(len(group_members)):\n",
    "    course = group_members.loc[i,'course2']\n",
    "    if(not pd.isna(course)):\n",
    "        courseOb = courses.loc[course]\n",
    "        labels = {'classTitle':str(courseOb['class title']), 'classCapacity': int(courseOb['class capacity'])}\n",
    "        matchone = matcher.match(\"Course\").where(**labels).first()\n",
    "        # matching courses to group members\n",
    "        relProp = {'professor':str(matchone['professor']), 'meetingDays':str(matchone['meetingDays'])}\n",
    "        matchtwo = matcher.match(\"Person\").where(\"_.name = '\" + str(group_members.loc[i,'name']) + \"'\").first()\n",
    "        graph.create(IsEnrolledIn(matchtwo, matchone, **relProp))\n",
    "#course3\n",
    "for i in range(len(group_members)):\n",
    "    course = group_members.loc[i,'course3']\n",
    "    if(not pd.isna(course)):\n",
    "        courseOb = courses.loc[course]\n",
    "        labels = {'classTitle':str(courseOb['class title']), 'professor': str(courseOb['professor'])}\n",
    "        matchone = matcher.match(\"Course\").where(**labels).first()        # matching courses to group members\n",
    "        relProp = {'professor':str(matchone['professor']), 'meetingDays':str(matchone['meetingDays'])}\n",
    "        matchtwo = matcher.match(\"Person\").where(\"_.name = '\" + str(group_members.loc[i,'name']) + \"'\").first()\n",
    "        graph.create(IsEnrolledIn(matchtwo, matchone, **relProp))\n",
    "#course4\n",
    "for i in range(len(group_members)):\n",
    "    course = group_members.loc[i,'course4']\n",
    "    if(not pd.isna(course)):\n",
    "        courseOb = courses.loc[course]\n",
    "        labels = {'classTitle':str(courseOb['class title']), 'professor': str(courseOb['professor'])}\n",
    "        matchone = matcher.match(\"Course\").where(**labels).first()        # matching courses to group members\n",
    "        relProp = {'professor':str(matchone['professor']), 'meetingDays':str(matchone['meetingDays'])}\n",
    "        matchtwo = matcher.match(\"Person\").where(\"_.name = '\" + str(group_members.loc[i,'name']) + \"'\").first()\n",
    "        graph.create(IsEnrolledIn(matchtwo, matchone, **relProp))\n",
    "#course5\n",
    "for i in range(len(group_members)):\n",
    "    course = group_members.loc[i,'course5']\n",
    "    if(not pd.isna(course)):\n",
    "        courseOb = courses.loc[course]\n",
    "        labels = {'classTitle':str(courseOb['class title']), 'professor': str(courseOb['professor'])}\n",
    "        matchone = matcher.match(\"Course\").where(**labels).first()\n",
    "        # matching courses to group members\n",
    "        relProp = {'professor':str(matchone['professor']), 'meetingDays':str(matchone['meetingDays'])}\n",
    "        matchtwo = matcher.match(\"Person\").where(\"_.name = '\" + str(group_members.loc[i,'name']) + \"'\").first()\n",
    "        graph.create(IsEnrolledIn(matchtwo, matchone, **relProp))\n",
    "#course6\n",
    "for i in range(len(group_members)):\n",
    "    course = group_members.loc[i,'course6']\n",
    "    if(not pd.isna(course)):\n",
    "        courseOb = courses.loc[course]\n",
    "        labels = {'classTitle':str(courseOb['class title']), 'professor': str(courseOb['professor'])}\n",
    "        matchone = matcher.match(\"Course\").where(**labels).first()\n",
    "        # matching courses to group members\n",
    "        relProp = {'professor':str(matchone['professor']), 'meetingDays':str(matchone['meetingDays'])}\n",
    "        matchtwo = matcher.match(\"Person\").where(\"_.name = '\" + str(group_members.loc[i,'name']) + \"'\").first()\n",
    "        graph.create(IsEnrolledIn(matchtwo, matchone, **relProp))\n",
    "#course7\n",
    "for i in range(len(group_members)):\n",
    "    course = group_members.loc[i,'course7']\n",
    "    if(not pd.isna(course)):\n",
    "        courseOb = courses.loc[course]\n",
    "        labels = {'classTitle':str(courseOb['class title']), 'professor': str(courseOb['professor'])}\n",
    "        matchone = matcher.match(\"Course\").where(**labels).first()\n",
    "        # matching courses to group members\n",
    "        relProp = {'professor':str(matchone['professor']), 'meetingDays':str(matchone['meetingDays'])}\n",
    "        matchtwo = matcher.match(\"Person\").where(\"_.name = '\" + str(group_members.loc[i,'name']) + \"'\").first()\n",
    "        graph.create(IsEnrolledIn(matchtwo, matchone, **relProp))"
   ]
  },
  {
   "cell_type": "code",
   "execution_count": 21,
   "metadata": {},
   "outputs": [
    {
     "data": {
      "text/html": [
       "(No data)"
      ],
      "text/plain": [
       "(No data)"
      ]
     },
     "execution_count": 21,
     "metadata": {},
     "output_type": "execute_result"
    }
   ],
   "source": [
    "#Removing redundant professor/meetingDays properties\n",
    "graph.run(\"MATCH (n:Course) REMOVE n.professor, n.meetingDays\")"
   ]
  },
  {
   "cell_type": "code",
   "execution_count": 22,
   "metadata": {},
   "outputs": [],
   "source": [
    "#FamMembers connecting to respective Pets\n",
    "for i in range(len(fam_members)):\n",
    "    if not pd.isna(fam_members['pet1Name'][i]):\n",
    "        matchone = matcher.match(\"familyMember\").where(\"_.name = '\" + str(fam_members.name[i]) + \"'\").first()\n",
    "        thisPet = pets.loc[pets['id '] == fam_members.pet1Name[i]].reset_index()\n",
    "        matchtwo = matcher.match(\"Pet\").where(\"_.name = '\" + str(thisPet.name[0]) + \"'\").first()\n",
    "        sinceDate = pets.loc[pets['id '] == fam_members.pet1Name[i]].reset_index()\n",
    "        relProp = {'since':int(sinceDate.since[0])}\n",
    "        graph.create(Owns(matchone, matchtwo, **relProp))"
   ]
  },
  {
   "cell_type": "code",
   "execution_count": 23,
   "metadata": {},
   "outputs": [],
   "source": [
    "for i in range(len(fam_members)):\n",
    "    if not pd.isna(fam_members['pet2Name'][i]):\n",
    "        matchone = matcher.match(\"familyMember\").where(\"_.name = '\" + str(fam_members.name[i]) + \"'\").first()\n",
    "        thisPet = pets.loc[pets['id '] == fam_members.pet2Name[i]].reset_index()\n",
    "        matchtwo = matcher.match(\"Pet\").where(\"_.name = '\" + str(thisPet.name[0]) + \"'\").first()\n",
    "        sinceDate = pets.loc[pets['id '] == fam_members.pet2Name[i]].reset_index()\n",
    "        relProp = {'since':int(sinceDate.since[0])}\n",
    "        graph.create(Owns(matchone, matchtwo, **relProp))"
   ]
  },
  {
   "cell_type": "markdown",
   "metadata": {},
   "source": [
    "## Queries"
   ]
  },
  {
   "cell_type": "code",
   "execution_count": 26,
   "metadata": {},
   "outputs": [
    {
     "data": {
      "text/html": [
       "(No data)"
      ],
      "text/plain": [
       "(No data)"
      ]
     },
     "execution_count": 26,
     "metadata": {},
     "output_type": "execute_result"
    }
   ],
   "source": [
    "#6 Deg of Danny Devito\n",
    "graph.run(\"MATCH (n:Person {name:'Danny Devito'})-[*1..3]-(m) RETURN n, m\")\n",
    "\n",
    "#Pet to Danny Devito\n",
    "graph.run(\"MATCH sPath = shortestPath((n:Person {name:'Danny Devito'})-[*]-(m:Pet {name:'King Louie'})) RETURN sPath\")\n",
    "\n",
    "#Parent of CS on Monday\n",
    "graph.run(\"MATCH (n:familyMember)-[:IS_RELATED_TO {relation:'parent'}]-(m:Person)-[e:IS_ENROLLED_IN]-(c:Course {classTitle:'Program & Data Representation'}) WHERE e.meetingDays CONTAINS 'M' RETURN n,m,c\")\n",
    "\n",
    "#Pet with Family Members that have the same Favorite Ice Cream\n",
    "graph.run(\"MATCH (n:familyMember)-[:OWNS]-(p:Pet)-[:OWNS]-(m:familyMember) WHERE n.favIceCream=m.favIceCream RETURN n,p,m\")"
   ]
  },
  {
   "cell_type": "code",
   "execution_count": null,
   "metadata": {},
   "outputs": [],
   "source": []
  },
  {
   "cell_type": "code",
   "execution_count": 25,
   "metadata": {},
   "outputs": [],
   "source": [
    "#graph.run(\"match (n) detach delete n\")"
   ]
  },
  {
   "cell_type": "code",
   "execution_count": null,
   "metadata": {},
   "outputs": [],
   "source": []
  },
  {
   "cell_type": "code",
   "execution_count": null,
   "metadata": {},
   "outputs": [],
   "source": []
  }
 ],
 "metadata": {
  "kernelspec": {
   "display_name": "Python 3",
   "language": "python",
   "name": "python3"
  },
  "language_info": {
   "codemirror_mode": {
    "name": "ipython",
    "version": 3
   },
   "file_extension": ".py",
   "mimetype": "text/x-python",
   "name": "python",
   "nbconvert_exporter": "python",
   "pygments_lexer": "ipython3",
   "version": "3.8.10"
  }
 },
 "nbformat": 4,
 "nbformat_minor": 4
}
